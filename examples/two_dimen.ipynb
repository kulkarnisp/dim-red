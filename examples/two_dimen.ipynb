{
 "cells": [
  {
   "cell_type": "code",
   "execution_count": null,
   "metadata": {},
   "outputs": [],
   "source": [
    "import numpy as np\n",
    "import matplotlib.pyplot as plt\n",
    "import os"
   ]
  },
  {
   "cell_type": "code",
   "execution_count": null,
   "metadata": {},
   "outputs": [],
   "source": [
    "# extract datafolder from pwd\n",
    "npath = '/'.join(os.getcwd().split('/')[:-1])\n",
    "npath += '/datasets/guass/' # change from gauss to any other dataset\n",
    "npath"
   ]
  },
  {
   "cell_type": "code",
   "execution_count": null,
   "metadata": {},
   "outputs": [],
   "source": [
    "# Extract actual data\n",
    "x_data = np.fromfile(npath+\"x_b2.txt\", sep=' ')\n",
    "y_data = np.fromfile(npath+\"y_b2.txt\", sep=' ')\n",
    "data = np.array([x_data,y_data]).T"
   ]
  },
  {
   "cell_type": "code",
   "execution_count": null,
   "metadata": {
    "scrolled": true
   },
   "outputs": [],
   "source": [
    "plt.scatter(*data.T)#,c= np.ones(len(x)))\n",
    "plt.xlabel(r\"$x_1$\")\n",
    "plt.ylabel(r\"$x_2$\")"
   ]
  },
  {
   "cell_type": "code",
   "execution_count": null,
   "metadata": {},
   "outputs": [],
   "source": [
    "cm = np.cov(data) # covariance matrix\n",
    "cm.shape"
   ]
  },
  {
   "cell_type": "code",
   "execution_count": null,
   "metadata": {},
   "outputs": [],
   "source": [
    "V,S,U = np.linalg.svd(data,full_matrices=False)"
   ]
  },
  {
   "cell_type": "code",
   "execution_count": null,
   "metadata": {},
   "outputs": [],
   "source": [
    "U.shape"
   ]
  },
  {
   "cell_type": "code",
   "execution_count": null,
   "metadata": {},
   "outputs": [],
   "source": [
    "def colorgen(colora=\"rgbk\"):\n",
    "    for i in colora:\n",
    "        yield i\n",
    "cgen = colorgen(\"rbgk\")\n",
    "def plotVec(V,ax,namer=\"None\",a=0,c='r'):\n",
    "    V += a\n",
    "#     c = next(cgen)\n",
    "    ax.plot([a,V[0,0]],[a,V[0,1]],'-'+c,linewidth=3, label=r\"$1^{st} PC$\")\n",
    "    ax.plot([a,V[1,0]],[a,V[1,1]],'--'+c,linewidth=2,label=r\"$2^{nd} PC$\")\n",
    "    ax.legend()"
   ]
  },
  {
   "cell_type": "code",
   "execution_count": null,
   "metadata": {
    "scrolled": false
   },
   "outputs": [],
   "source": [
    "fig,ax = plt.subplots(figsize=(6,4.5))\n",
    "ax.plot(*data.T, 'o')\n",
    "\n",
    "plotVec(2*U,ax,\"Variance\")\n",
    "plt.xlabel(r\"$x_1$\")\n",
    "plt.ylabel(r\"$x_2$\")"
   ]
  },
  {
   "cell_type": "markdown",
   "metadata": {},
   "source": [
    "## Low dim"
   ]
  },
  {
   "cell_type": "code",
   "execution_count": null,
   "metadata": {},
   "outputs": [],
   "source": [
    "pc = U[0]\n",
    "## Picked first principle vector\n",
    "\n",
    "xr = np.dot(data,pc) ## reduced\n",
    "xp = np.outer(xr,pc) ## Predicted"
   ]
  },
  {
   "cell_type": "code",
   "execution_count": null,
   "metadata": {},
   "outputs": [],
   "source": [
    "print(xr.shape)\n",
    "print(pc.shape)"
   ]
  },
  {
   "cell_type": "code",
   "execution_count": null,
   "metadata": {},
   "outputs": [],
   "source": [
    "plt.plot(*xp.T,'.r', label='Data Reconstructed from PC1')\n",
    "plt.plot(*data.T,'.b')\n",
    "plt.xlabel(r\"$x_1$\")\n",
    "plt.ylabel(r\"$x_2$\")\n",
    "plt.legend()"
   ]
  },
  {
   "cell_type": "markdown",
   "metadata": {},
   "source": [
    "## Make up a source term"
   ]
  },
  {
   "cell_type": "code",
   "execution_count": null,
   "metadata": {},
   "outputs": [],
   "source": [
    "x1,y1 = data.T\n",
    "print(x1.shape)\n",
    "print(y1.shape)\n",
    "print(data.shape)"
   ]
  },
  {
   "cell_type": "code",
   "execution_count": null,
   "metadata": {},
   "outputs": [],
   "source": [
    "z1 = np.exp(0.62*(3.1*x1-2.08*y1))\n",
    "z1.shape"
   ]
  },
  {
   "cell_type": "code",
   "execution_count": null,
   "metadata": {},
   "outputs": [],
   "source": [
    "n = 610"
   ]
  },
  {
   "cell_type": "code",
   "execution_count": null,
   "metadata": {},
   "outputs": [],
   "source": [
    "plt.plot(x1[:n],z1[:n],'o')\n",
    "plt.plot(x1[n:],z1[n:],'ro')\n",
    "plt.xlabel(r\"$x_i$\")\n",
    "plt.ylabel(r\"$f(x_1,x_2)$\")\n"
   ]
  },
  {
   "cell_type": "code",
   "execution_count": null,
   "metadata": {},
   "outputs": [],
   "source": [
    "pc1 = U[0]\n",
    "xr = np.dot(data,pc1)"
   ]
  },
  {
   "cell_type": "code",
   "execution_count": null,
   "metadata": {},
   "outputs": [],
   "source": [
    "xp = np.outer(xr,pc1)"
   ]
  },
  {
   "cell_type": "markdown",
   "metadata": {},
   "source": [
    "**Recaculate source term from the predicted data: xp**"
   ]
  },
  {
   "cell_type": "code",
   "execution_count": null,
   "metadata": {},
   "outputs": [],
   "source": [
    "from sklearn.ensemble import RandomForestRegressor\n",
    "\n",
    "## Random Forest (or Bootstrap Aggregation) should perform better that\n",
    "## General additive model, (Mars for eg), Ref: Tibishirani, ESL page 322"
   ]
  },
  {
   "cell_type": "code",
   "execution_count": null,
   "metadata": {},
   "outputs": [],
   "source": [
    "model = RandomForestRegressor(n_estimators=500, oob_score=True, random_state=100)\n",
    "model.fit(xp,z1)  ### should be zp? Check 1#"
   ]
  },
  {
   "cell_type": "code",
   "execution_count": null,
   "metadata": {},
   "outputs": [],
   "source": [
    "zp = model.predict(xp)"
   ]
  },
  {
   "cell_type": "code",
   "execution_count": null,
   "metadata": {
    "scrolled": true
   },
   "outputs": [],
   "source": [
    "plt.plot(x1,z1,\"b.\",label=\"Source\")\n",
    "plt.plot(x1[n:],zp[n:],\"r.\",label=\"Predicted\")\n",
    "plt.xlabel(r\"$x_i$\")\n",
    "plt.ylabel(r\"$f(x_1,x_2)$\")\n",
    "\n",
    "plt.legend()"
   ]
  },
  {
   "cell_type": "code",
   "execution_count": null,
   "metadata": {
    "scrolled": true
   },
   "outputs": [],
   "source": [
    "print(\"MSE is \",np.mean(np.abs(zp-z1)))"
   ]
  },
  {
   "cell_type": "markdown",
   "metadata": {},
   "source": [
    "## Combinator"
   ]
  },
  {
   "cell_type": "code",
   "execution_count": null,
   "metadata": {},
   "outputs": [],
   "source": [
    "from ipywidgets import interact\n",
    "import os,sys\n",
    "from sklearn.ensemble import RandomForestRegressor\n",
    "from sklearn.linear_model import LinearRegression,LogisticRegression\n",
    "from sklearn.svm import SVR,LinearSVR\n",
    "from sklearn.neighbors import KNeighborsRegressor\n",
    "from sklearn.neural_network import MLPRegressor"
   ]
  },
  {
   "cell_type": "code",
   "execution_count": null,
   "metadata": {},
   "outputs": [],
   "source": [
    "from utils import co_kurtosis,co_variance"
   ]
  },
  {
   "cell_type": "code",
   "execution_count": null,
   "metadata": {},
   "outputs": [],
   "source": [
    "modeldict = {\n",
    "    'linear' : LinearRegression(),\n",
    "    'svm' : SVR(),\n",
    "    'forest': RandomForestRegressor(n_estimators=500, oob_score=True, random_state=100),\n",
    "    'knn' : KNeighborsRegressor(),\n",
    "    'neural' : MLPRegressor()\n",
    "\n",
    "}"
   ]
  },
  {
   "cell_type": "code",
   "execution_count": null,
   "metadata": {},
   "outputs": [],
   "source": [
    "def encode(x,method=co_variance):\n",
    "    cm = method(x)\n",
    "    V,S,U = np.linalg.svd(cm,full_matrices=False)\n",
    "    pc = U[0] ### U[:1] num of vectors to chose\n",
    "    xr = np.dot(x,pc)\n",
    "    xe = np.outer(xr,pc)\n",
    "    return xe ## encoded set\n",
    "\n",
    "def decode(z,xp,model):\n",
    "    model.fit(xp,z)\n",
    "    zp = model.predict(xp)\n",
    "    return zp\n"
   ]
  },
  {
   "cell_type": "code",
   "execution_count": null,
   "metadata": {},
   "outputs": [],
   "source": [
    "def mse(a,ap):\n",
    "    return np.mean((a-ap)**2)\n",
    "\n",
    "def tse(x,y):\n",
    "    _conv = lambda x : np.array(x).T    \n",
    "    x = _conv(x)\n",
    "    y = _conv(y)\n",
    "    return np.linalg.norm(x-y,ord=1,axis=1).sum()\n",
    "\n",
    "mse = lambda a,ap: np.mean(np.abs(a-ap))"
   ]
  },
  {
   "cell_type": "code",
   "execution_count": null,
   "metadata": {},
   "outputs": [],
   "source": [
    "# x1,y1 = x.T\n",
    "# z1 = np.exp(-0.62*(3.1*x1+1.08*y1))\n",
    "dat = {'x':x1,'y':y1,'s':z1}"
   ]
  },
  {
   "cell_type": "code",
   "execution_count": null,
   "metadata": {},
   "outputs": [],
   "source": [
    "# result.setdefault(?)"
   ]
  },
  {
   "cell_type": "code",
   "execution_count": null,
   "metadata": {
    "code_folding": []
   },
   "outputs": [],
   "source": [
    "pcdict = {'variance':co_variance,\n",
    "         'kurtosis':co_kurtosis}\n",
    "def comma(verbose=True,fi='x',si='s',enc=co_variance,dec=modeldict['linear']):\n",
    "    xa = dat[fi]\n",
    "    ya = dat[si]\n",
    "    xen = encode(x,method=enc)\n",
    "    xp = decode(xa,xen,model=dec)\n",
    "    yp = decode(ya,xen,model=dec)\n",
    "\n",
    "    if verbose:\n",
    "        plt.plot(xa,ya,\".\",label=\"Original\")\n",
    "        plt.plot(xp,yp,\"r.\",label=\"Predicted\")\n",
    "        plt.xlabel(fi)\n",
    "        plt.ylabel(si)\n",
    "        plt.title(str(dec)[:16])\n",
    "        plt.legend()\n",
    "        plt.show()\n",
    "    e1,e2 = mse(x1,xp),mse(y1,yp)\n",
    "    e3 = tse([x1,y1],[xp,yp])\n",
    "    \n",
    "    if verbose:\n",
    "        print(f\"\"\" method {enc},\n",
    "        Reconstruction\n",
    "        x error {e1} \n",
    "        y error {e2}\n",
    "        total err {e3}\n",
    "        \"\"\")\n",
    "    return e1,e2,e3\n",
    "    \n",
    "interact(comma,verbose=[True,False],fi=['x','y'],si=['y','s'],enc=pcdict,dec=modeldict)"
   ]
  },
  {
   "cell_type": "code",
   "execution_count": null,
   "metadata": {},
   "outputs": [],
   "source": []
  },
  {
   "cell_type": "code",
   "execution_count": null,
   "metadata": {},
   "outputs": [],
   "source": [
    "results = {}\n",
    "for k,v in pcdict.items():\n",
    "    results[k] = {}\n",
    "    for n,m in modeldict.items():\n",
    "        e1,e2,e3 = comma(enc=v,dec=m,verbose=False)\n",
    "        results[k][n] = [e1,e2,e3]\n",
    "    \n",
    "        \n",
    "        "
   ]
  },
  {
   "cell_type": "code",
   "execution_count": null,
   "metadata": {},
   "outputs": [],
   "source": [
    "import pandas as pd\n"
   ]
  },
  {
   "cell_type": "code",
   "execution_count": null,
   "metadata": {},
   "outputs": [],
   "source": [
    "pd.DataFrame(results)"
   ]
  },
  {
   "cell_type": "code",
   "execution_count": null,
   "metadata": {},
   "outputs": [],
   "source": [
    "errs = []\n",
    "for i in range(3):\n",
    "    errs.append({})\n",
    "    for k,v in results.items():\n",
    "        errs[i][k] = {}\n",
    "        for m,eri in v.items():\n",
    "            errs[i][k][m] = eri[i]\n",
    "# results"
   ]
  },
  {
   "cell_type": "code",
   "execution_count": null,
   "metadata": {},
   "outputs": [],
   "source": [
    "plt."
   ]
  },
  {
   "cell_type": "code",
   "execution_count": null,
   "metadata": {},
   "outputs": [],
   "source": [
    "df1 = pd.DataFrame(errs[0])\n",
    "\n",
    "\n",
    "df1.plot.barh()#(kind='bar')\n",
    "plt.title(\"Species reconstruction error\")"
   ]
  },
  {
   "cell_type": "code",
   "execution_count": null,
   "metadata": {},
   "outputs": [],
   "source": [
    "x = np.random.rand(4,2)\n",
    "x"
   ]
  },
  {
   "cell_type": "code",
   "execution_count": null,
   "metadata": {},
   "outputs": [],
   "source": [
    "import pandas as pd\n",
    "df = pd.DataFrame(x)\n",
    "df.index = [\"First\",\"second\",\"Thired\",\"Finiss\"]\n",
    "df"
   ]
  },
  {
   "cell_type": "code",
   "execution_count": null,
   "metadata": {},
   "outputs": [],
   "source": [
    "n = 610\n",
    "\n",
    "plt."
   ]
  },
  {
   "cell_type": "code",
   "execution_count": null,
   "metadata": {},
   "outputs": [],
   "source": [
    "plt.figure(figsize=(3,2))\n",
    "df1.plot.barh()\n",
    "plt.xlabel(\"Reconstruction Errors\")\n",
    "plt.ylabel(\"Reconstruction Method\")\n"
   ]
  },
  {
   "cell_type": "code",
   "execution_count": null,
   "metadata": {},
   "outputs": [],
   "source": [
    "Original --------->  LowDim ======> Reconstruction"
   ]
  },
  {
   "cell_type": "code",
   "execution_count": null,
   "metadata": {},
   "outputs": [],
   "source": [
    "Chem species xi --------> eta_i (trim_few pcs) ========>"
   ]
  },
  {
   "cell_type": "code",
   "execution_count": null,
   "metadata": {},
   "outputs": [],
   "source": [
    "------> is Variance/Kurtosis"
   ]
  },
  {
   "cell_type": "code",
   "execution_count": null,
   "metadata": {},
   "outputs": [],
   "source": [
    "new = {\"data\":0,\n",
    "      \"fifty\": 50,\n",
    "      \"Four\":4}\n",
    "for k,v in new.items():\n",
    "    print(k,v)"
   ]
  }
 ],
 "metadata": {
  "hide_input": false,
  "kernelspec": {
   "display_name": "Python 3 (ipykernel)",
   "language": "python",
   "name": "python3"
  },
  "language_info": {
   "codemirror_mode": {
    "name": "ipython",
    "version": 3
   },
   "file_extension": ".py",
   "mimetype": "text/x-python",
   "name": "python",
   "nbconvert_exporter": "python",
   "pygments_lexer": "ipython3",
   "version": "3.8.10"
  },
  "toc": {
   "base_numbering": 1,
   "nav_menu": {},
   "number_sections": true,
   "sideBar": true,
   "skip_h1_title": false,
   "title_cell": "Table of Contents",
   "title_sidebar": "Contents",
   "toc_cell": false,
   "toc_position": {},
   "toc_section_display": true,
   "toc_window_display": false
  },
  "varInspector": {
   "cols": {
    "lenName": 16,
    "lenType": 16,
    "lenVar": 40
   },
   "kernels_config": {
    "python": {
     "delete_cmd_postfix": "",
     "delete_cmd_prefix": "del ",
     "library": "var_list.py",
     "varRefreshCmd": "print(var_dic_list())"
    },
    "r": {
     "delete_cmd_postfix": ") ",
     "delete_cmd_prefix": "rm(",
     "library": "var_list.r",
     "varRefreshCmd": "cat(var_dic_list()) "
    }
   },
   "position": {
    "height": "144.683px",
    "left": "460.167px",
    "right": "20px",
    "top": "390px",
    "width": "350px"
   },
   "types_to_exclude": [
    "module",
    "function",
    "builtin_function_or_method",
    "instance",
    "_Feature"
   ],
   "window_display": true
  }
 },
 "nbformat": 4,
 "nbformat_minor": 4
}
