{
 "cells": [
  {
   "cell_type": "code",
   "execution_count": 1,
   "id": "5fe28e40",
   "metadata": {},
   "outputs": [],
   "source": [
    "import numpy as np\n",
    "import matplotlib.pyplot as plt\n",
    "plt.style.use('default')\n",
    "\n",
    "\n",
    "from ipywidgets import interact\n",
    "import os,sys\n",
    "# sys.addaudithook\n",
    "rpath = os.getcwd()\n",
    "sys.path.insert(0,\"../\")\n",
    "# import utils\n",
    "\n",
    "import dimred ### library of dimension reduction"
   ]
  },
  {
   "cell_type": "code",
   "execution_count": 2,
   "id": "5828b1f7",
   "metadata": {},
   "outputs": [],
   "source": [
    "from dimred.data.loader import LoadOne\n",
    "from dimred.data.preprocess import MinMaxScalar,ZeroMeanScalar,MeanMaxScalar\n",
    "# dimred.\n",
    "from dimred.data.preprocess import scale_sanity,Scalar\n",
    "\n",
    "from dimred.models.linear.transform import Kurtosis\n",
    "from dimred.models.linear.transform import co_variance,co_kurtosis\n",
    "from dimred.tester.plotting import plot_embedding,plot_compare\n",
    "from dimred.tester.metrics import mean_sq_error,mean_abs_error"
   ]
  },
  {
   "cell_type": "code",
   "execution_count": 3,
   "id": "6a1700f2",
   "metadata": {},
   "outputs": [],
   "source": [
    "def reshape_step(xinput):\n",
    "    nvs = xinput.shape[-1]  ## reshapeing to oned array for cantera\n",
    "    xinp = xinput.reshape(-1,nvs)\n",
    "    return xinp"
   ]
  },
  {
   "cell_type": "code",
   "execution_count": 21,
   "id": "15216561",
   "metadata": {},
   "outputs": [],
   "source": [
    "def ck_calc(xscaled):\n",
    "    shape = xscaled.shape\n",
    "    n = shape[0]\n",
    "    nvar = shape[1]\n",
    "    CK = np.zeros((nvar, nvar, nvar, nvar))\n",
    "    \n",
    "    for i in range(0,(nvar)):\n",
    "        for j in range(0,(nvar)):\n",
    "            for k in range(0,(nvar)):\n",
    "                for l in range(0,(nvar)):\n",
    "                    CK[i,j,k,l] = (np.sum(xscaled[:,i]*xscaled[:,j]*xscaled[:,k]*xscaled[:,l]))\n",
    "#         print(i,j)\n",
    "    \n",
    "    CK=CK/n\n",
    "    CV= cv_calc(xscaled)\n",
    "    \n",
    "    for i in range(0,(nvar)):\n",
    "        for j in range(0,(nvar)):\n",
    "            for k in range(0,(nvar)):\n",
    "                for l in range(0,(nvar)):\n",
    "                    CK[i,j,k,l] = (CK[i,j,k,l] - CV[i,j]*CV[k,l] - CV[i,k]*CV[j,l] - CV[i,l]*CV[j,k])\n",
    "    \n",
    "    CK_m = CK.reshape(nvar*nvar*nvar, nvar)\n",
    "    return CK_m"
   ]
  },
  {
   "cell_type": "code",
   "execution_count": 5,
   "id": "43edd50b",
   "metadata": {},
   "outputs": [],
   "source": [
    "def cv_calc(xscaled):\n",
    "    shape = xscaled.shape\n",
    "    n = shape[0]\n",
    "    nvar = shape[1]\n",
    "    \n",
    "    CV = np.zeros((nvar, nvar))\n",
    "    \n",
    "    for i in range(0,(nvar)):\n",
    "        for j in range(0,(nvar)):\n",
    "            CV[i,j] = (np.sum(xscaled[:,i]*xscaled[:,j]))\n",
    "#         print(i,j)\n",
    "    \n",
    "    CV=CV/(n)\n",
    "    return CV"
   ]
  },
  {
   "cell_type": "code",
   "execution_count": 6,
   "id": "586d9e34",
   "metadata": {},
   "outputs": [],
   "source": [
    "def calc_mean_max(xinp):\n",
    "    mn = xinp.mean(axis=0)\n",
    "    mx = abs(xinp).max(axis=0)\n",
    "    \n",
    "    return mn, mx"
   ]
  },
  {
   "cell_type": "code",
   "execution_count": 219,
   "id": "699ae27d",
   "metadata": {},
   "outputs": [],
   "source": [
    "mn, mx = calc_mean_max(temp)"
   ]
  },
  {
   "cell_type": "code",
   "execution_count": 220,
   "id": "0864c986",
   "metadata": {},
   "outputs": [
    {
     "name": "stdout",
     "output_type": "stream",
     "text": [
      "[ 5.  6.  7.  8.  9. 10. 11. 12. 13. 14.] [10. 11. 12. 13. 14. 15. 16. 17. 18. 19.] [-5. -5. -5. -5. -5. -5. -5. -5. -5. -5.]\n"
     ]
    }
   ],
   "source": [
    "print(mn, mx, mn-mx)"
   ]
  },
  {
   "cell_type": "code",
   "execution_count": 7,
   "id": "54a1bc32",
   "metadata": {},
   "outputs": [],
   "source": [
    "def scaling(xinp, add, factor, flag):\n",
    "    shape = xinp.shape\n",
    "    nvar = shape[1]\n",
    "    x_scaled = np.zeros(shape)\n",
    "    \n",
    "    if flag == 0: #scaling\n",
    "        print('scaling')\n",
    "        for f in range(nvar):\n",
    "            x_scaled[:,f] = (xinp[:,f] - add[f])/factor[f]\n",
    "    \n",
    "    if flag ==1: #reverse scaling\n",
    "        print('reverse scaling')\n",
    "        for f in range(nvar):\n",
    "            x_scaled[:,f] = (xinp[:,f]*factor[f]) + add[f]\n",
    "   \n",
    "    return x_scaled"
   ]
  },
  {
   "cell_type": "code",
   "execution_count": 16,
   "id": "c29d6f29",
   "metadata": {},
   "outputs": [],
   "source": [
    "def scale_cv_reconst(data_matrics, retain_pc = 4):\n",
    "    xinp = reshape_step(data_matrics).copy() # restructuring array to n*features\n",
    "    shape = xinp.shape                       # shape\n",
    "    \n",
    "    mean, mx = calc_mean_max(xinp)\n",
    "    x_scaled = scaling(xinp, mean, mx, 0)      # scaling data\n",
    "    \n",
    "    CV = cv_calc(x_scaled)\n",
    "    \n",
    "    u_cv, s_cv, vh_cv = np.linalg.svd(CV)\n",
    "    \n",
    "    Zq = np.matmul(xinp, u_cv[:,0:retain_pc]) # data in eigenspace\n",
    "    \n",
    "    xreconstruct_cv = np.matmul(Zq, u_cv[:,0:retain_pc].tranpose()) # reconstructed data\n",
    "    \n",
    "    xreconstruct_cv_rs = scaling(xreconstruct_cv, mean, mx, 1) # reverse scaling of data\n",
    "    \n",
    "    return xreconstruct_cv_rs"
   ]
  },
  {
   "cell_type": "code",
   "execution_count": 9,
   "id": "39ce6ece",
   "metadata": {},
   "outputs": [],
   "source": [
    "def scale_ck_reconst(data_matrics, retain_pc = 4):\n",
    "    xinp = reshape_step(data_matrics).copy() # restructuring array to n*features\n",
    "    shape = xinp.shape                       # shape\n",
    "    x_scaled = scaling(xinp, 0)      # scaling data \n",
    "    \n",
    "    CK_m = ck_calc(x_scaled)                 # kurtosis calculation\n",
    "    \n",
    "    u_ck, s_ck, vh_ck = np.linalg.svd(CK_m, full_matrices=False, compute_uv=True, hermitian=False) # SVD    \n",
    "\n",
    "    Zq = np.matmul(xinp, vh_ck[0:retain_pc,:].T)       # data in eigenspace\n",
    "    \n",
    "    xreconstruct_ck = np.matmul(Zq, vh_ck[0:retain_pc,:]) # reconstructed data\n",
    "    \n",
    "    xreconstruct_ck = scaling(xreconstruct_ck, 1) # reverse scaling of data\n",
    "    \n",
    "    return xreconstruct_ck"
   ]
  },
  {
   "cell_type": "code",
   "execution_count": null,
   "id": "87b5e626",
   "metadata": {},
   "outputs": [],
   "source": []
  },
  {
   "cell_type": "code",
   "execution_count": null,
   "id": "ec97b42f",
   "metadata": {},
   "outputs": [],
   "source": []
  },
  {
   "cell_type": "code",
   "execution_count": null,
   "id": "123db80c",
   "metadata": {},
   "outputs": [],
   "source": []
  },
  {
   "cell_type": "code",
   "execution_count": 17,
   "id": "860cb1ec",
   "metadata": {},
   "outputs": [],
   "source": [
    "loader = LoadOne()"
   ]
  },
  {
   "cell_type": "code",
   "execution_count": 18,
   "id": "8a159360",
   "metadata": {},
   "outputs": [
    {
     "name": "stdout",
     "output_type": "stream",
     "text": [
      "reading file autoignition.1.0000E-05.field.mpi...\n"
     ]
    },
    {
     "data": {
      "image/png": "[encoded data removed]",
      "text/plain": [
       "<Figure size 640x480 with 1 Axes>"
      ]
     },
     "metadata": {},
     "output_type": "display_data"
    }
   ],
   "source": [
    "time_step = 100\n",
    "\n",
    "xrig = loader.getTime(time_step,verbose=3)[:,:13]\n",
    "loader.plotLine(spec=12,time=time_step)"
   ]
  },
  {
   "cell_type": "code",
   "execution_count": 19,
   "id": "2585d30b",
   "metadata": {},
   "outputs": [
    {
     "data": {
      "text/plain": [
       "(1024, 13)"
      ]
     },
     "execution_count": 19,
     "metadata": {},
     "output_type": "execute_result"
    }
   ],
   "source": [
    "xrig.shape"
   ]
  },
  {
   "cell_type": "code",
   "execution_count": 20,
   "id": "3082d4cb",
   "metadata": {},
   "outputs": [
    {
     "name": "stdout",
     "output_type": "stream",
     "text": [
      "scaling\n"
     ]
    },
    {
     "ename": "AttributeError",
     "evalue": "'numpy.ndarray' object has no attribute 'tranpose'",
     "output_type": "error",
     "traceback": [
      "\u001b[0;31m---------------------------------------------------------------------------\u001b[0m",
      "\u001b[0;31mAttributeError\u001b[0m                            Traceback (most recent call last)",
      "\u001b[0;32m<ipython-input-20-f0370949f945>\u001b[0m in \u001b[0;36m<module>\u001b[0;34m\u001b[0m\n\u001b[0;32m----> 1\u001b[0;31m \u001b[0mxnew\u001b[0m \u001b[0;34m=\u001b[0m \u001b[0mscale_cv_reconst\u001b[0m\u001b[0;34m(\u001b[0m\u001b[0mxrig\u001b[0m\u001b[0;34m,\u001b[0m \u001b[0mretain_pc\u001b[0m \u001b[0;34m=\u001b[0m \u001b[0;36m4\u001b[0m\u001b[0;34m)\u001b[0m\u001b[0;34m\u001b[0m\u001b[0;34m\u001b[0m\u001b[0m\n\u001b[0m",
      "\u001b[0;32m<ipython-input-16-7581f86f7df3>\u001b[0m in \u001b[0;36mscale_cv_reconst\u001b[0;34m(data_matrics, retain_pc)\u001b[0m\n\u001b[1;32m     12\u001b[0m     \u001b[0mZq\u001b[0m \u001b[0;34m=\u001b[0m \u001b[0mnp\u001b[0m\u001b[0;34m.\u001b[0m\u001b[0mmatmul\u001b[0m\u001b[0;34m(\u001b[0m\u001b[0mxinp\u001b[0m\u001b[0;34m,\u001b[0m \u001b[0mu_cv\u001b[0m\u001b[0;34m[\u001b[0m\u001b[0;34m:\u001b[0m\u001b[0;34m,\u001b[0m\u001b[0;36m0\u001b[0m\u001b[0;34m:\u001b[0m\u001b[0mretain_pc\u001b[0m\u001b[0;34m]\u001b[0m\u001b[0;34m)\u001b[0m \u001b[0;31m# data in eigenspace\u001b[0m\u001b[0;34m\u001b[0m\u001b[0;34m\u001b[0m\u001b[0m\n\u001b[1;32m     13\u001b[0m \u001b[0;34m\u001b[0m\u001b[0m\n\u001b[0;32m---> 14\u001b[0;31m     \u001b[0mxreconstruct_cv\u001b[0m \u001b[0;34m=\u001b[0m \u001b[0mnp\u001b[0m\u001b[0;34m.\u001b[0m\u001b[0mmatmul\u001b[0m\u001b[0;34m(\u001b[0m\u001b[0mZq\u001b[0m\u001b[0;34m,\u001b[0m \u001b[0mu_cv\u001b[0m\u001b[0;34m[\u001b[0m\u001b[0;34m:\u001b[0m\u001b[0;34m,\u001b[0m\u001b[0;36m0\u001b[0m\u001b[0;34m:\u001b[0m\u001b[0mretain_pc\u001b[0m\u001b[0;34m]\u001b[0m\u001b[0;34m.\u001b[0m\u001b[0mtranpose\u001b[0m\u001b[0;34m(\u001b[0m\u001b[0;34m)\u001b[0m\u001b[0;34m)\u001b[0m \u001b[0;31m# reconstructed data\u001b[0m\u001b[0;34m\u001b[0m\u001b[0;34m\u001b[0m\u001b[0m\n\u001b[0m\u001b[1;32m     15\u001b[0m \u001b[0;34m\u001b[0m\u001b[0m\n\u001b[1;32m     16\u001b[0m     \u001b[0mxreconstruct_cv_rs\u001b[0m \u001b[0;34m=\u001b[0m \u001b[0mscaling\u001b[0m\u001b[0;34m(\u001b[0m\u001b[0mxreconstruct_cv\u001b[0m\u001b[0;34m,\u001b[0m \u001b[0mmean\u001b[0m\u001b[0;34m,\u001b[0m \u001b[0mmx\u001b[0m\u001b[0;34m,\u001b[0m \u001b[0;36m1\u001b[0m\u001b[0;34m)\u001b[0m \u001b[0;31m# reverse scaling of data\u001b[0m\u001b[0;34m\u001b[0m\u001b[0;34m\u001b[0m\u001b[0m\n",
      "\u001b[0;31mAttributeError\u001b[0m: 'numpy.ndarray' object has no attribute 'tranpose'"
     ]
    }
   ],
   "source": [
    "xnew = scale_cv_reconst(xrig, retain_pc = 4)"
   ]
  },
  {
   "cell_type": "code",
   "execution_count": 14,
   "id": "fbc92489",
   "metadata": {},
   "outputs": [
    {
     "data": {
      "text/plain": [
       "[<matplotlib.lines.Line2D at 0x7f5071f2cc10>]"
      ]
     },
     "execution_count": 14,
     "metadata": {},
     "output_type": "execute_result"
    },
    {
     "data": {
      "image/png": "[encoded data removed]",
      "text/plain": [
       "<Figure size 640x480 with 1 Axes>"
      ]
     },
     "metadata": {},
     "output_type": "display_data"
    }
   ],
   "source": [
    "plt.plot(xnew[:,12])"
   ]
  },
  {
   "cell_type": "code",
   "execution_count": 15,
   "id": "0c0305cb",
   "metadata": {},
   "outputs": [
    {
     "data": {
      "text/plain": [
       "[<matplotlib.lines.Line2D at 0x7f5071f0f7f0>]"
      ]
     },
     "execution_count": 15,
     "metadata": {},
     "output_type": "execute_result"
    },
    {
     "data": {
      "image/png": "[encoded data removed]",
      "text/plain": [
       "<Figure size 640x480 with 1 Axes>"
      ]
     },
     "metadata": {},
     "output_type": "display_data"
    }
   ],
   "source": [
    "plt.plot(xrig[:,12])"
   ]
  },
  {
   "cell_type": "code",
   "execution_count": 151,
   "id": "b711bb98",
   "metadata": {},
   "outputs": [],
   "source": [
    "x_scalingTest = np.zeros(xrig.shape)\n",
    "for f in range(13):\n",
    "    mx = np.max(abs(xrig[:,f]))\n",
    "    mn = np.mean(xrig[:,f])\n",
    "    x_scalingTest[:,f] = (xrig[:,f] - mn)/mx"
   ]
  },
  {
   "cell_type": "code",
   "execution_count": null,
   "id": "2651849a",
   "metadata": {},
   "outputs": [],
   "source": []
  },
  {
   "cell_type": "code",
   "execution_count": null,
   "id": "1dfdb0cc",
   "metadata": {},
   "outputs": [],
   "source": []
  },
  {
   "cell_type": "code",
   "execution_count": null,
   "id": "1f0af760",
   "metadata": {},
   "outputs": [],
   "source": []
  },
  {
   "cell_type": "code",
   "execution_count": 22,
   "id": "7f585b1d",
   "metadata": {},
   "outputs": [],
   "source": [
    "# input file\n",
    "fname1 = 'x_b5.txt'\n",
    "fname2 = 'y_b5.txt'\n",
    "\n",
    "fid1 = open(fname1,'r')\n",
    "fid2 = open(fname2,'r')\n",
    "\n",
    "x = np.fromfile(fid1, sep=' ')\n",
    "y = np.fromfile(fid2, sep=' ')\n",
    "\n",
    "nx = x.size    # size of data\n",
    "nv = 2         # number of variables\n",
    "\n",
    "# data matrix\n",
    "X = np.zeros((nx,nv))\n",
    "X[:,0] = x\n",
    "X[:,1] = y"
   ]
  },
  {
   "cell_type": "code",
   "execution_count": 24,
   "id": "aafef6cb",
   "metadata": {},
   "outputs": [
    {
     "data": {
      "text/plain": [
       "(625, 2)"
      ]
     },
     "execution_count": 24,
     "metadata": {},
     "output_type": "execute_result"
    }
   ],
   "source": [
    "X.shape"
   ]
  },
  {
   "cell_type": "code",
   "execution_count": 34,
   "id": "f69c43bb",
   "metadata": {},
   "outputs": [],
   "source": [
    "v1 = ck_calc(X)\n",
    "v2 = co_kurtosis(X)"
   ]
  },
  {
   "cell_type": "code",
   "execution_count": 35,
   "id": "009767e7",
   "metadata": {},
   "outputs": [],
   "source": [
    "v1 = cv_calc(X)\n",
    "v2 = co_variance(X)"
   ]
  },
  {
   "cell_type": "code",
   "execution_count": 36,
   "id": "6c1f2b47",
   "metadata": {},
   "outputs": [
    {
     "data": {
      "text/plain": [
       "array([[0.82721962, 0.3947209 ],\n",
       "       [0.3947209 , 0.47245016]])"
      ]
     },
     "execution_count": 36,
     "metadata": {},
     "output_type": "execute_result"
    }
   ],
   "source": [
    "v2"
   ]
  },
  {
   "cell_type": "code",
   "execution_count": 42,
   "id": "0d344097",
   "metadata": {},
   "outputs": [
    {
     "data": {
      "text/plain": [
       "array([[0.82721962, 0.3947209 ],\n",
       "       [0.3947209 , 0.47245016]])"
      ]
     },
     "execution_count": 42,
     "metadata": {},
     "output_type": "execute_result"
    }
   ],
   "source": [
    "v1"
   ]
  },
  {
   "cell_type": "code",
   "execution_count": 41,
   "id": "f2fea116",
   "metadata": {},
   "outputs": [
    {
     "data": {
      "text/plain": [
       "0.0"
      ]
     },
     "execution_count": 41,
     "metadata": {},
     "output_type": "execute_result"
    }
   ],
   "source": [
    "np.sum(v1-v2)"
   ]
  },
  {
   "cell_type": "code",
   "execution_count": 35,
   "id": "feaa7aff",
   "metadata": {},
   "outputs": [],
   "source": [
    "v1 = cv_calc(X)\n",
    "v2 = co_variance(X)"
   ]
  },
  {
   "cell_type": "code",
   "execution_count": 36,
   "id": "b7d2bb65",
   "metadata": {},
   "outputs": [
    {
     "data": {
      "text/plain": [
       "array([[0.82721962, 0.3947209 ],\n",
       "       [0.3947209 , 0.47245016]])"
      ]
     },
     "execution_count": 36,
     "metadata": {},
     "output_type": "execute_result"
    }
   ],
   "source": [
    "v2"
   ]
  },
  {
   "cell_type": "code",
   "execution_count": 42,
   "id": "ff036275",
   "metadata": {},
   "outputs": [
    {
     "data": {
      "text/plain": [
       "array([[0.82721962, 0.3947209 ],\n",
       "       [0.3947209 , 0.47245016]])"
      ]
     },
     "execution_count": 42,
     "metadata": {},
     "output_type": "execute_result"
    }
   ],
   "source": [
    "v1"
   ]
  },
  {
   "cell_type": "code",
   "execution_count": 41,
   "id": "6685d9b5",
   "metadata": {},
   "outputs": [
    {
     "data": {
      "text/plain": [
       "0.0"
      ]
     },
     "execution_count": 41,
     "metadata": {},
     "output_type": "execute_result"
    }
   ],
   "source": [
    "np.sum(v1-v2)"
   ]
  },
  {
   "cell_type": "code",
   "execution_count": 43,
   "id": "55a7ed61",
   "metadata": {},
   "outputs": [],
   "source": [
    "v1 = ck_calc(X)\n",
    "v2 = co_kurtosis(X)"
   ]
  },
  {
   "cell_type": "code",
   "execution_count": 48,
   "id": "4db095b0",
   "metadata": {},
   "outputs": [],
   "source": [
    "# x,y"
   ]
  },
  {
   "cell_type": "code",
   "execution_count": 50,
   "id": "fe7014dc",
   "metadata": {},
   "outputs": [
    {
     "data": {
      "text/plain": [
       "0.49924845732118794"
      ]
     },
     "execution_count": 50,
     "metadata": {},
     "output_type": "execute_result"
    }
   ],
   "source": [
    "np.sum(x*y**3)/len(x)"
   ]
  },
  {
   "cell_type": "code",
   "execution_count": 51,
   "id": "254215f5",
   "metadata": {},
   "outputs": [
    {
     "data": {
      "text/plain": [
       "0.47224130565568084"
      ]
     },
     "execution_count": 51,
     "metadata": {},
     "output_type": "execute_result"
    }
   ],
   "source": [
    "np.sum(y*x**3)/len(x)"
   ]
  },
  {
   "cell_type": "code",
   "execution_count": 44,
   "id": "914f414e",
   "metadata": {},
   "outputs": [
    {
     "data": {
      "text/plain": [
       "array([[ 4.41870337, -0.50732131],\n",
       "       [-0.50732131, -0.68939607],\n",
       "       [-0.50732131,  0.01565029],\n",
       "       [ 0.01565029, -0.0602094 ],\n",
       "       [-0.50732131,  0.01565029],\n",
       "       [ 0.01565029, -0.0602094 ],\n",
       "       [-0.68939607, -0.0602094 ],\n",
       "       [-0.0602094 , -0.07438832]])"
      ]
     },
     "execution_count": 44,
     "metadata": {},
     "output_type": "execute_result"
    }
   ],
   "source": [
    "v2"
   ]
  },
  {
   "cell_type": "code",
   "execution_count": 45,
   "id": "714bab7f",
   "metadata": {},
   "outputs": [
    {
     "data": {
      "text/plain": [
       "array([[ 4.41870337, -0.50732131],\n",
       "       [-0.50732131, -0.21936516],\n",
       "       [-0.50732131, -0.21936516],\n",
       "       [-0.21936516, -0.0602094 ],\n",
       "       [-0.50732131, -0.21936516],\n",
       "       [-0.21936516, -0.0602094 ],\n",
       "       [-0.21936516, -0.0602094 ],\n",
       "       [-0.0602094 , -0.07438832]])"
      ]
     },
     "execution_count": 45,
     "metadata": {},
     "output_type": "execute_result"
    }
   ],
   "source": [
    "v1"
   ]
  },
  {
   "cell_type": "code",
   "execution_count": 46,
   "id": "c676551d",
   "metadata": {},
   "outputs": [
    {
     "data": {
      "text/plain": [
       "-8.326672684688674e-16"
      ]
     },
     "execution_count": 46,
     "metadata": {},
     "output_type": "execute_result"
    }
   ],
   "source": [
    "np.sum(v1-v2)"
   ]
  },
  {
   "cell_type": "code",
   "execution_count": null,
   "id": "aa99a6c7",
   "metadata": {},
   "outputs": [],
   "source": []
  },
  {
   "cell_type": "code",
   "execution_count": 120,
   "id": "c6dd4d27",
   "metadata": {},
   "outputs": [
    {
     "data": {
      "text/plain": [
       "Text(0.5, 0, 'Time (ms)')"
      ]
     },
     "execution_count": 120,
     "metadata": {},
     "output_type": "execute_result"
    },
    {
     "data": {
      "image/png": "[encoded data removed]",
      "text/plain": [
       "<Figure size 400x300 with 1 Axes>"
      ]
     },
     "metadata": {},
     "output_type": "display_data"
    }
   ],
   "source": [
    "# plot reaction rates\n",
    "plt.rcParams['axes.labelsize'] = 14\n",
    "plt.rcParams['xtick.labelsize'] = 12\n",
    "plt.rcParams['ytick.labelsize'] = 12\n",
    "plt.rcParams['legend.fontsize'] = 10\n",
    "plt.rcParams['figure.figsize'] = (4,3)\n",
    "# Get the best of both ggplot and seaborn\n",
    "plt.style.use('ggplot')\n",
    "plt.style.use('seaborn-deep')\n",
    "plt.rcParams['figure.autolayout'] = True \n",
    "plt.figure()\n",
    "plt.plot(x,y, 'o')\n",
    "plt.xlabel('Time (ms)')\n",
    "# plt.ylabel('Reaction rate');"
   ]
  },
  {
   "cell_type": "code",
   "execution_count": 131,
   "id": "4b6446df",
   "metadata": {},
   "outputs": [
    {
     "name": "stdout",
     "output_type": "stream",
     "text": [
      "[[ 0.04579083 -0.11694883]\n",
      " [ 0.10642451  0.18288682]\n",
      " [-0.00360463 -0.20817833]\n",
      " ...\n",
      " [-0.91550439  0.07314406]\n",
      " [-0.96979324  0.03714631]\n",
      " [-0.1043739  -0.49983294]]\n"
     ]
    }
   ],
   "source": [
    "def scaleData(nf, v):\n",
    "\n",
    "    # compute mean\n",
    "    v_mean = np.mean(v, axis=0)\n",
    "#     print(v_mean)\n",
    "    v_max = np.max(np.abs(v), axis=0)\n",
    "#     print(v_max)\n",
    "\n",
    "    # add for loop to scale the data: NORMALIZATION\n",
    "    for i in range(nf):\n",
    "        v[:, i] = (v[:, i] - v_mean[i])/v_max[i]\n",
    "#         v[:, i] = (v[:, i])/v_max[i]\n",
    "\n",
    "    return None\n",
    "\n",
    "Xs = np.zeros((nx,nv)) # scaled data matrix\n",
    "Xs = np.copy(X)\n",
    "\n",
    "scaleData(nv,Xs)\n",
    "print(Xs)"
   ]
  },
  {
   "cell_type": "code",
   "execution_count": 134,
   "id": "6a5b98a1",
   "metadata": {},
   "outputs": [
    {
     "data": {
      "text/plain": [
       "Text(0.5, 0, 'Time (ms)')"
      ]
     },
     "execution_count": 134,
     "metadata": {},
     "output_type": "execute_result"
    },
    {
     "data": {
      "image/png": "[encoded data removed]",
      "text/plain": [
       "<Figure size 400x300 with 1 Axes>"
      ]
     },
     "metadata": {},
     "output_type": "display_data"
    }
   ],
   "source": [
    "# plot reaction rates\n",
    "plt.rcParams['axes.labelsize'] = 14\n",
    "plt.rcParams['xtick.labelsize'] = 12\n",
    "plt.rcParams['ytick.labelsize'] = 12\n",
    "plt.rcParams['legend.fontsize'] = 10\n",
    "plt.rcParams['figure.figsize'] = (4,3)\n",
    "# Get the best of both ggplot and seaborn\n",
    "plt.style.use('ggplot')\n",
    "plt.style.use('seaborn-deep')\n",
    "plt.rcParams['figure.autolayout'] = True \n",
    "plt.figure()\n",
    "plt.plot(Xs[:,0],Xs[:,1], 'o')\n",
    "plt.xlabel('Time (ms)')\n",
    "# plt.ylabel('Reaction rate');"
   ]
  },
  {
   "cell_type": "code",
   "execution_count": 136,
   "id": "80972243",
   "metadata": {},
   "outputs": [
    {
     "name": "stdout",
     "output_type": "stream",
     "text": [
      "[[ 0.04579083 -0.11694883]\n",
      " [ 0.10642451  0.18288682]\n",
      " [-0.00360463 -0.20817833]\n",
      " ...\n",
      " [-0.91550439  0.07314406]\n",
      " [-0.96979324  0.03714631]\n",
      " [-0.1043739  -0.49983294]]\n"
     ]
    },
    {
     "data": {
      "text/plain": [
       "Text(0.5, 0, 'Time (ms)')"
      ]
     },
     "execution_count": 136,
     "metadata": {},
     "output_type": "execute_result"
    },
    {
     "data": {
      "image/png": "[encoded data removed]",
      "text/plain": [
       "<Figure size 400x300 with 1 Axes>"
      ]
     },
     "metadata": {},
     "output_type": "display_data"
    }
   ],
   "source": [
    "X_ls = scaling(X,0)\n",
    "print(X_ls)\n",
    "# plot reaction rates\n",
    "plt.rcParams['axes.labelsize'] = 14\n",
    "plt.rcParams['xtick.labelsize'] = 12\n",
    "plt.rcParams['ytick.labelsize'] = 12\n",
    "plt.rcParams['legend.fontsize'] = 10\n",
    "plt.rcParams['figure.figsize'] = (4,3)\n",
    "# Get the best of both ggplot and seaborn\n",
    "plt.style.use('ggplot')\n",
    "plt.style.use('seaborn-deep')\n",
    "plt.rcParams['figure.autolayout'] = True \n",
    "plt.figure()\n",
    "plt.plot(X_ls[:,0],X_ls[:,1], 'o')\n",
    "plt.xlabel('Time (ms)')\n",
    "# plt.ylabel('Reaction rate');"
   ]
  },
  {
   "cell_type": "code",
   "execution_count": 141,
   "id": "2616677c",
   "metadata": {},
   "outputs": [
    {
     "data": {
      "text/plain": [
       "array([[0.04474126, 0.04428097],\n",
       "       [0.04428097, 0.10827869]])"
      ]
     },
     "execution_count": 141,
     "metadata": {},
     "output_type": "execute_result"
    }
   ],
   "source": [
    "cv_calc(X_ls)"
   ]
  },
  {
   "cell_type": "code",
   "execution_count": 145,
   "id": "4c0a319c",
   "metadata": {},
   "outputs": [
    {
     "name": "stdout",
     "output_type": "stream",
     "text": [
      "[[ 0.01189471 -0.00285924]\n",
      " [-0.00285924 -0.00266447]\n",
      " [-0.00285924 -0.00266447]\n",
      " [-0.00266447 -0.00158121]\n",
      " [-0.00285924 -0.00266447]\n",
      " [-0.00266447 -0.00158121]\n",
      " [-0.00266447 -0.00158121]\n",
      " [-0.00158121 -0.00394168]]\n"
     ]
    }
   ],
   "source": [
    "print(ck_calc(X_ls))"
   ]
  },
  {
   "cell_type": "code",
   "execution_count": 143,
   "id": "03634e27",
   "metadata": {
    "scrolled": true
   },
   "outputs": [],
   "source": [
    "X_new = scale_cv_reconst(X, retain_pc = 1)"
   ]
  },
  {
   "cell_type": "code",
   "execution_count": 144,
   "id": "c1d640af",
   "metadata": {},
   "outputs": [
    {
     "data": {
      "text/plain": [
       "Text(0.5, 0, 'Time (ms)')"
      ]
     },
     "execution_count": 144,
     "metadata": {},
     "output_type": "execute_result"
    },
    {
     "data": {
      "image/png": "[encoded data removed]",
      "text/plain": [
       "<Figure size 400x300 with 1 Axes>"
      ]
     },
     "metadata": {},
     "output_type": "display_data"
    }
   ],
   "source": [
    "X_new = scale_cv_reconst(X, retain_pc = 1)\n",
    "# plot reaction rates\n",
    "plt.rcParams['axes.labelsize'] = 14\n",
    "plt.rcParams['xtick.labelsize'] = 12\n",
    "plt.rcParams['ytick.labelsize'] = 12\n",
    "plt.rcParams['legend.fontsize'] = 10\n",
    "plt.rcParams['figure.figsize'] = (4,3)\n",
    "# Get the best of both ggplot and seaborn\n",
    "plt.style.use('ggplot')\n",
    "plt.style.use('seaborn-deep')\n",
    "plt.rcParams['figure.autolayout'] = True \n",
    "plt.figure()\n",
    "plt.plot(X_new[:,0],X_new[:,1], 'o')\n",
    "plt.xlabel('Time (ms)')"
   ]
  },
  {
   "cell_type": "code",
   "execution_count": 146,
   "id": "555f8bd1",
   "metadata": {},
   "outputs": [
    {
     "data": {
      "text/plain": [
       "Text(0.5, 0, 'Time (ms)')"
      ]
     },
     "execution_count": 146,
     "metadata": {},
     "output_type": "execute_result"
    },
    {
     "data": {
      "image/png": "[encoded data removed]",
      "text/plain": [
       "<Figure size 400x300 with 1 Axes>"
      ]
     },
     "metadata": {},
     "output_type": "display_data"
    }
   ],
   "source": [
    "X_new = scale_ck_reconst(X, retain_pc = 1)\n",
    "# plot reaction rates\n",
    "plt.rcParams['axes.labelsize'] = 14\n",
    "plt.rcParams['xtick.labelsize'] = 12\n",
    "plt.rcParams['ytick.labelsize'] = 12\n",
    "plt.rcParams['legend.fontsize'] = 10\n",
    "plt.rcParams['figure.figsize'] = (4,3)\n",
    "# Get the best of both ggplot and seaborn\n",
    "plt.style.use('ggplot')\n",
    "plt.style.use('seaborn-deep')\n",
    "plt.rcParams['figure.autolayout'] = True \n",
    "plt.figure()\n",
    "plt.plot(X_new[:,0],X_new[:,1], 'o')\n",
    "plt.xlabel('Time (ms)')"
   ]
  }
 ],
 "metadata": {
  "kernelspec": {
   "display_name": "Python 3",
   "language": "python",
   "name": "python3"
  },
  "language_info": {
   "codemirror_mode": {
    "name": "ipython",
    "version": 3
   },
   "file_extension": ".py",
   "mimetype": "text/x-python",
   "name": "python",
   "nbconvert_exporter": "python",
   "pygments_lexer": "ipython3",
   "version": "3.9.5"
  }
 },
 "nbformat": 4,
 "nbformat_minor": 5
}
