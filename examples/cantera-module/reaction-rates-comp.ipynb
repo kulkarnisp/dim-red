{
 "cells": [
  {
   "cell_type": "code",
   "execution_count": 1,
   "id": "da223c04",
   "metadata": {},
   "outputs": [],
   "source": [
    "import numpy as np\n",
    "import pandas as pd\n",
    "import os\n",
    "import cantera as ct\n",
    "\n",
    "import matplotlib.pyplot as plt"
   ]
  },
  {
   "cell_type": "code",
   "execution_count": 2,
   "id": "c5bcbba5",
   "metadata": {},
   "outputs": [],
   "source": [
    "plt.rc('font', size=17)          # controls default text sizes\n",
    "plt.rc('axes', titlesize=22)     # fontsize of the axes title\n",
    "plt.rc('axes', labelsize=22)    # fontsize of the x and y labels\n",
    "plt.rc('xtick', labelsize=22)    # fontsize of the tick labels\n",
    "plt.rc('ytick', labelsize=22)    # fontsize of the tick labels\n",
    "plt.rc('legend', fontsize=15)    # legend fontsize\n",
    "plt.rc('figure', titlesize=17)  # fontsize of the figure title"
   ]
  },
  {
   "cell_type": "code",
   "execution_count": 3,
   "id": "cc099a5f",
   "metadata": {},
   "outputs": [],
   "source": [
    "nx = 1024\n",
    "ny = 1\n",
    "nv = 17"
   ]
  },
  {
   "cell_type": "code",
   "execution_count": null,
   "id": "adfebfce",
   "metadata": {},
   "outputs": [],
   "source": [
    "file_path =\"methane\"\n",
    "fPath = os.path.join(file_path,fNames[fNames.index('autoignition.1.0000E-05.field.mpi')])\n",
    "\n",
    "data_old = np.fromfile(fPath, dtype=\"float64\",count=nx*nv)\n",
    "data_old = np.reshape(data_old, newshape=(nx, nv), order='F')"
   ]
  },
  {
   "cell_type": "code",
   "execution_count": 4,
   "id": "617ec50f",
   "metadata": {},
   "outputs": [],
   "source": [
    "ref_array = np.ones(14) #reference values required to multiplied to mpi data for conversion into the SI units\n",
    "\n",
    "temp_ref = 120\n",
    "press_ref = 1.41837E+05\n",
    "\n",
    "ref_array[12] = temp_ref\n",
    "ref_array[13] = press_ref"
   ]
  },
  {
   "cell_type": "code",
   "execution_count": 5,
   "id": "7ba1f494",
   "metadata": {},
   "outputs": [],
   "source": [
    "reactRates_old = np.zeros(shape=(1024,29)) # array to store reaction rates of 29 reactions\n",
    "prodRates_old = np.zeros(shape=(1024,12))  # array to store production/consumption rates of the 12 species"
   ]
  },
  {
   "cell_type": "code",
   "execution_count": null,
   "id": "bf48d60a",
   "metadata": {},
   "outputs": [],
   "source": [
    "gas = ct.Solution('COH2.cti')"
   ]
  },
  {
   "cell_type": "code",
   "execution_count": null,
   "id": "d52febfb",
   "metadata": {},
   "outputs": [],
   "source": [
    "for i in range(1024):                                  #iterating over all grid points\n",
    "#     print(i)                                            \n",
    "    sample = data_old[i,:14]*ref_array                 #converting into the SI units\n",
    "    gas.Y = sample[:12]                                #setting up the mass fraction of the species\n",
    "    gas.TP = sample[12:14]                             #setting up the temperature and pressure of gas\n",
    "    prodRates_old[i,:] = gas.net_production_rates      #calculating production/consumption rates\n",
    "    reactRates_old[i,:] = gas.net_rates_of_progress    #calculating reaction rates"
   ]
  },
  {
   "cell_type": "markdown",
   "id": "4ec2e170",
   "metadata": {},
   "source": [
    "## Doing the same algo for the reconstructed data"
   ]
  },
  {
   "cell_type": "code",
   "execution_count": null,
   "id": "2febbadc",
   "metadata": {},
   "outputs": [],
   "source": []
  }
 ],
 "metadata": {
  "kernelspec": {
   "display_name": "Python 3",
   "language": "python",
   "name": "python3"
  },
  "language_info": {
   "codemirror_mode": {
    "name": "ipython",
    "version": 3
   },
   "file_extension": ".py",
   "mimetype": "text/x-python",
   "name": "python",
   "nbconvert_exporter": "python",
   "pygments_lexer": "ipython3",
   "version": "3.9.5"
  }
 },
 "nbformat": 4,
 "nbformat_minor": 5
}
