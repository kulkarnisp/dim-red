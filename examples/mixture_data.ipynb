{
 "cells": [
  {
   "cell_type": "markdown",
   "metadata": {},
   "source": [
    "## Dimensionality analysis interface"
   ]
  },
  {
   "cell_type": "markdown",
   "metadata": {},
   "source": [
    "\n",
    "- [**Zero dimensional mixture data**]\n",
    "- [**One dimensional syngas**](http://10.24.50.14:9031/apps/examples/oned_data.ipynb?appmode_scroll=23)\n",
    "- [**HCCI two dim dataset**](http://10.24.50.14:9031/apps/examples/hcci_data.ipynb?appmode_scroll=0)\n"
   ]
  },
  {
   "cell_type": "markdown",
   "metadata": {},
   "source": [
    "## Analysis of things"
   ]
  },
  {
   "cell_type": "markdown",
   "metadata": {},
   "source": [
    "### Data loader- H2Li zero d Flame"
   ]
  },
  {
   "cell_type": "code",
   "execution_count": 4,
   "metadata": {},
   "outputs": [],
   "source": [
    "import numpy as np\n",
    "import matplotlib.pyplot as plt\n",
    "plt.style.use('seaborn')\n",
    "\n",
    "import pandas as pd\n",
    "\n",
    "import os,sys\n",
    "# sys.addaudithook\n",
    "rpath = os.getcwd()\n",
    "sys.path.insert(0,\"../\")\n",
    "# import utils\n",
    "\n",
    "import dimred ### library of dimension reduction\n",
    "from dimred.newpipe import Elbow\n",
    "from dimred.newcistern import Knob\n",
    "\n",
    "from dimred.data.loader import LoadMPI,LoadNumpy,LoadOne\n",
    "from dimred.data.preprocess import MinMaxScalar,AvgMaxScalar,MaxAvgScalar,scaleData\n",
    "from dimred.models.linear.transform import co_kurtosis,ra_kurtosis,val_kurtosis"
   ]
  },
  {
   "cell_type": "code",
   "execution_count": 5,
   "metadata": {},
   "outputs": [],
   "source": [
    "loader = LoadNumpy('zero','zerohydro')"
   ]
  },
  {
   "cell_type": "code",
   "execution_count": 6,
   "metadata": {},
   "outputs": [
    {
     "name": "stdout",
     "output_type": "stream",
     "text": [
      "\n",
      "  gas:\n",
      "\n",
      "       temperature   300 K\n",
      "          pressure   1.0133e+05 Pa\n",
      "           density   0.081894 kg/m^3\n",
      "  mean mol. weight   2.016 kg/kmol\n",
      "   phase of matter   gas\n",
      "\n",
      "                          1 kg             1 kmol     \n",
      "                     ---------------   ---------------\n",
      "          enthalpy             27711             55865  J\n",
      "   internal energy       -1.2096e+06       -2.4385e+06  J\n",
      "           entropy             64868        1.3077e+05  J/K\n",
      "    Gibbs function       -1.9433e+07       -3.9176e+07  J\n",
      " heat capacity c_p             14324             28877  J/K\n",
      " heat capacity c_v             10200             20563  J/K\n",
      "\n",
      "                      mass frac. Y      mole frac. X     chem. pot. / RT\n",
      "                     ---------------   ---------------   ---------------\n",
      "                H2                 1                 1           -15.706\n",
      "     [   +8 minor]                 0                 0  \n",
      "\n"
     ]
    }
   ],
   "source": [
    "loader.gasobj()"
   ]
  },
  {
   "cell_type": "code",
   "execution_count": 7,
   "metadata": {},
   "outputs": [],
   "source": [
    "plt.style.use('seaborn')\n"
   ]
  },
  {
   "cell_type": "markdown",
   "metadata": {},
   "source": [
    "### Sampling analysis - H2-Li zero-d flame"
   ]
  },
  {
   "cell_type": "code",
   "execution_count": 9,
   "metadata": {},
   "outputs": [],
   "source": [
    "class Crossings(Elbow):\n",
    "    def __init__(self, data_name=\"premixz\") -> None:\n",
    "        super().__init__(data_name=data_name)\n",
    "        self.IMAX = 25\n",
    "\n",
    "    def mf_data(self,time_step=9,plot=False):\n",
    "        return self.loader.x[0,::time_step+1].copy()"
   ]
  },
  {
   "cell_type": "code",
   "execution_count": null,
   "metadata": {},
   "outputs": [],
   "source": []
  },
  {
   "cell_type": "code",
   "execution_count": 10,
   "metadata": {},
   "outputs": [
    {
     "name": "stdout",
     "output_type": "stream",
     "text": [
      "Time required for co_variance is 5.412102e-04 sec\n",
      "co_variance reconstruction error after retaining 4 vectors is 6.713e+01\n"
     ]
    },
    {
     "data": {
      "application/vnd.jupyter.widget-view+json": {
       "model_id": "76ebe91e467b4b408850bc29626143ee",
       "version_major": 2,
       "version_minor": 0
      },
      "text/plain": [
       "  0%|          | 0/501 [00:00<?, ?it/s]"
      ]
     },
     "metadata": {},
     "output_type": "display_data"
    },
    {
     "name": "stdout",
     "output_type": "stream",
     "text": [
      "Time required for val_kurtosis is 4.959736e-01 sec\n",
      "val_kurtosis reconstruction error after retaining 4 vectors is 6.303e+01\n"
     ]
    }
   ],
   "source": [
    "rn = Crossings('zerohydro')\n",
    "rn.MyScalar = MinMaxScalar\n",
    "\n",
    "rn.mf_build(9);\n",
    "# rn.mf_alldata();\n",
    "midbar = Knob(rn)\n"
   ]
  },
  {
   "cell_type": "code",
   "execution_count": 11,
   "metadata": {},
   "outputs": [
    {
     "data": {
      "application/vnd.jupyter.widget-view+json": {
       "model_id": "579f5da649364983be6674129e2074d3",
       "version_major": 2,
       "version_minor": 0
      },
      "text/plain": [
       "Tab(children=(VBox(children=(IntSlider(value=10, description='sampling rate', max=25), Dropdown(description='S…"
      ]
     },
     "metadata": {},
     "output_type": "display_data"
    }
   ],
   "source": [
    "midbar"
   ]
  },
  {
   "cell_type": "markdown",
   "metadata": {},
   "source": [
    "### Sampling analysis -- premixed flame"
   ]
  },
  {
   "cell_type": "code",
   "execution_count": 12,
   "metadata": {},
   "outputs": [
    {
     "name": "stdout",
     "output_type": "stream",
     "text": [
      "CanteraWarning: NasaPoly2::validate: \n",
      "For species CH2CHO, discontinuity in cp/R detected at Tmid = 1000.0\n",
      "\tValue computed using low-temperature polynomial:  26.065097100000003\n",
      "\tValue computed using high-temperature polynomial: 11.747907039000001\n",
      "\n",
      "CanteraWarning: NasaPoly2::validate: \n",
      "For species CH2CHO, discontinuity in h/RT detected at Tmid = 1000.0\n",
      "\tValue computed using low-temperature polynomial:  13.293446295\n",
      "\tValue computed using high-temperature polynomial: 9.714151448299999\n",
      "\n",
      "CanteraWarning: NasaPoly2::validate: \n",
      "For species CH2CHO, discontinuity in s/R detected at Tmid = 1000.0\n",
      "\tValue computed using low-temperature polynomial:  47.90778318164618\n",
      "\tValue computed using high-temperature polynomial: 43.13539330776299\n",
      "\n"
     ]
    }
   ],
   "source": [
    "premix = LoadNumpy('prem','premixz')"
   ]
  },
  {
   "cell_type": "code",
   "execution_count": 13,
   "metadata": {},
   "outputs": [
    {
     "name": "stdout",
     "output_type": "stream",
     "text": [
      "CanteraWarning: NasaPoly2::validate: \n",
      "For species CH2CHO, discontinuity in cp/R detected at Tmid = 1000.0\n",
      "\tValue computed using low-temperature polynomial:  26.065097100000003\n",
      "\tValue computed using high-temperature polynomial: 11.747907039000001\n",
      "\n",
      "CanteraWarning: NasaPoly2::validate: \n",
      "For species CH2CHO, discontinuity in h/RT detected at Tmid = 1000.0\n",
      "\tValue computed using low-temperature polynomial:  13.293446295\n",
      "\tValue computed using high-temperature polynomial: 9.714151448299999\n",
      "\n",
      "CanteraWarning: NasaPoly2::validate: \n",
      "For species CH2CHO, discontinuity in s/R detected at Tmid = 1000.0\n",
      "\tValue computed using low-temperature polynomial:  47.90778318164618\n",
      "\tValue computed using high-temperature polynomial: 43.13539330776299\n",
      "\n",
      "Time required for co_variance is 2.093315e-04 sec\n",
      "co_variance reconstruction error after retaining 4 vectors is 1.485e+01\n"
     ]
    },
    {
     "data": {
      "application/vnd.jupyter.widget-view+json": {
       "model_id": "0bf05f4e2a9647b9ba4d8e4fb38f5794",
       "version_major": 2,
       "version_minor": 0
      },
      "text/plain": [
       "  0%|          | 0/501 [00:00<?, ?it/s]"
      ]
     },
     "metadata": {},
     "output_type": "display_data"
    },
    {
     "name": "stdout",
     "output_type": "stream",
     "text": [
      "Time required for val_kurtosis is 1.407038e+00 sec\n",
      "val_kurtosis reconstruction error after retaining 4 vectors is 4.734e+01\n"
     ]
    }
   ],
   "source": [
    "rn = Crossings()\n",
    "rn.MyScalar = MinMaxScalar\n",
    "\n",
    "rn.mf_build(9);\n",
    "# rn.mf_alldata();\n",
    "topbar = Knob(rn)\n"
   ]
  },
  {
   "cell_type": "code",
   "execution_count": 14,
   "metadata": {},
   "outputs": [
    {
     "data": {
      "application/vnd.jupyter.widget-view+json": {
       "model_id": "e1ea425bd4ed4f44b9db69f17c75018b",
       "version_major": 2,
       "version_minor": 0
      },
      "text/plain": [
       "Tab(children=(VBox(children=(IntSlider(value=10, description='sampling rate', max=25), Dropdown(description='S…"
      ]
     },
     "metadata": {},
     "output_type": "display_data"
    }
   ],
   "source": [
    "topbar"
   ]
  }
 ],
 "metadata": {
  "hide_input": false,
  "kernelspec": {
   "display_name": "Python 3 (ipykernel)",
   "language": "python",
   "name": "python3"
  },
  "language_info": {
   "codemirror_mode": {
    "name": "ipython",
    "version": 3
   },
   "file_extension": ".py",
   "mimetype": "text/x-python",
   "name": "python",
   "nbconvert_exporter": "python",
   "pygments_lexer": "ipython3",
   "version": "3.9.7"
  },
  "toc": {
   "base_numbering": 1,
   "nav_menu": {},
   "number_sections": true,
   "sideBar": true,
   "skip_h1_title": false,
   "title_cell": "Table of Contents",
   "title_sidebar": "Contents",
   "toc_cell": false,
   "toc_position": {},
   "toc_section_display": true,
   "toc_window_display": true
  },
  "varInspector": {
   "cols": {
    "lenName": 16,
    "lenType": 16,
    "lenVar": 40
   },
   "kernels_config": {
    "python": {
     "delete_cmd_postfix": "",
     "delete_cmd_prefix": "del ",
     "library": "var_list.py",
     "varRefreshCmd": "print(var_dic_list())"
    },
    "r": {
     "delete_cmd_postfix": ") ",
     "delete_cmd_prefix": "rm(",
     "library": "var_list.r",
     "varRefreshCmd": "cat(var_dic_list()) "
    }
   },
   "types_to_exclude": [
    "module",
    "function",
    "builtin_function_or_method",
    "instance",
    "_Feature"
   ],
   "window_display": true
  }
 },
 "nbformat": 4,
 "nbformat_minor": 4
}
