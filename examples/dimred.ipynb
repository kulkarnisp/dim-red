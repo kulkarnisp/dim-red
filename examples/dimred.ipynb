{
 "cells": [
  {
   "cell_type": "code",
   "execution_count": null,
   "id": "63c536de",
   "metadata": {},
   "outputs": [],
   "source": [
    "import numpy, sys\n",
    "import matplotlib.pyplot as plot\n",
    "from ipywidgets import interact\n",
    "sys.path.insert(0,\"../\")\n",
    "from dimred.pipeline import DimRedAnalysis\n",
    "plot.style.use('default')"
   ]
  },
  {
   "cell_type": "code",
   "execution_count": null,
   "id": "2deea14f",
   "metadata": {},
   "outputs": [],
   "source": [
    "analysis = DimRedAnalysis(dataset=None, scaling_type=None) # use default dataset and scaling i.e. syngas & MinMax"
   ]
  },
  {
   "cell_type": "code",
   "execution_count": null,
   "id": "ea7a9f89",
   "metadata": {},
   "outputs": [],
   "source": [
    "## Example (time t = 10 microsecond)\n",
    "\n",
    "# notation:\n",
    "# oData = original data\n",
    "# sData = scaled original data\n",
    "# cvPvecs = principal vectors obtained using the Co-Variance tensor\n",
    "# cvPvals = principal values obtained using the Co-Variance tensor\n",
    "# kuPvecs = principal vectors obtained using the Co-Kurtosis tensor\n",
    "# kuPvals = principal values obtained using the Co-Kurtosis tensor\n",
    "\n",
    "#oData, sData, cvPvecs, cvPvals, kuPvecs, kuPvals = analysis.analyse_checkpoint(checkpoint_id=100)"
   ]
  },
  {
   "cell_type": "code",
   "execution_count": null,
   "id": "13bb4cbb",
   "metadata": {},
   "outputs": [],
   "source": [
    "#analysis.plot_pvals_vs_modes(sData, 100)"
   ]
  },
  {
   "cell_type": "code",
   "execution_count": null,
   "id": "7bfd6b18",
   "metadata": {},
   "outputs": [],
   "source": [
    "#analysis.plot_inclination(scaled_data=sData, idx=100)"
   ]
  },
  {
   "cell_type": "code",
   "execution_count": null,
   "id": "b6ccb3ae",
   "metadata": {},
   "outputs": [],
   "source": [
    "# notation:\n",
    "# rsCV = reconstructed scaled data obtained using principal vectors with Co-Variance tensor\n",
    "# rsCK = reconstructed scaled data obtained using principal vectors with Co-Kurtosis tensor\n",
    "# rCV = reconstructed rescaled data obtained using principal vectors with Co-Variance tensor\n",
    "# rCK = reconstructed rescaled data obtained using principal vectors with Co-Kurtosis tensor\n",
    "\n",
    "#rsCV, rsCK, rCV, rVK = analysis.get_reconstructed_data(scaled_data=sData, cov_pvecs=cvPvecs,\n",
    "#                                                       kur_pvecs=kuPvecs,\n",
    "#                                                       retain=analysis.max_features,\n",
    "#                                                       reconstruction_type='linear')"
   ]
  },
  {
   "cell_type": "markdown",
   "id": "4d54292d",
   "metadata": {},
   "source": [
    "## Obtain $L_\\infty$ error norms for all time steps in the whole domain"
   ]
  },
  {
   "cell_type": "code",
   "execution_count": null,
   "id": "8f991c00",
   "metadata": {},
   "outputs": [],
   "source": [
    "# notation:\n",
    "# eCV = error in the reconstructed data obtained using principal vectors with Co-Variance tensor\n",
    "# eCK = error in the reconstructed data obtained using principal vectors with Co-Kurtosis tensor\n",
    "# eCVs= error in the reconstructed scaled data obtained using principal vectors with Co-Variance tensor\n",
    "# eCKs= error in the reconstructed scaled data obtained using principal vectors with Co-Kurtosis tensor"
   ]
  },
  {
   "cell_type": "code",
   "execution_count": null,
   "id": "18a93340",
   "metadata": {},
   "outputs": [],
   "source": [
    "# retain 3 features to reconstruct the data \n",
    "eCV, eCK, eCVs, eCKs = analysis.get_temporal_errors_1D(retain=3)"
   ]
  },
  {
   "cell_type": "code",
   "execution_count": null,
   "id": "9d832df0",
   "metadata": {},
   "outputs": [],
   "source": [
    "# plot errors obtained with reconstruction with co-variance principal vectors\n",
    "for feature in range(analysis.max_features):\n",
    "    plot.contourf(eCV[:,:,feature])\n",
    "    cbar=plot.colorbar(label='error for Feature %s'%feature)\n",
    "    plot.show()"
   ]
  },
  {
   "cell_type": "code",
   "execution_count": null,
   "id": "743f3bcd",
   "metadata": {},
   "outputs": [],
   "source": [
    "# plot errors obtained with reconstruction with co-kurtosis principal vectors\n",
    "for feature in range(analysis.max_features):\n",
    "    plot.contourf(eCK[:,:,feature])\n",
    "    cbar=plot.colorbar(label='error for Feature %s'%feature)\n",
    "    plot.show()"
   ]
  },
  {
   "cell_type": "code",
   "execution_count": null,
   "id": "7c530e2e",
   "metadata": {},
   "outputs": [],
   "source": [
    "# plot errors obtained with scaled reconstruction with co-variance principal vectors\n",
    "for feature in range(analysis.max_features):\n",
    "    plot.contourf(eCVs[:,:,feature])\n",
    "    cbar=plot.colorbar(label='error for Feature %s'%feature)\n",
    "    plot.show()"
   ]
  },
  {
   "cell_type": "code",
   "execution_count": null,
   "id": "c863e6e1",
   "metadata": {},
   "outputs": [],
   "source": [
    "# plot errors obtained with scaled reconstruction with co-kurtosis principal vectors\n",
    "for feature in range(analysis.max_features):\n",
    "    plot.contourf(eCKs[:,:,feature])\n",
    "    cbar=plot.colorbar(label='error for Feature %s'%feature)\n",
    "    plot.show()"
   ]
  },
  {
   "cell_type": "markdown",
   "id": "c9307a56",
   "metadata": {},
   "source": [
    "## Obtain $L_\\infty$ error norms for all time steps in the first quarter of the domain"
   ]
  },
  {
   "cell_type": "code",
   "execution_count": null,
   "id": "2174181c",
   "metadata": {},
   "outputs": [],
   "source": [
    "# retain 3 features to reconstruct the data \n",
    "eCV, eCK, eCVs, eCKs = analysis.get_temporal_errors_1D(retain=3,xRegionEnd=1024//4, xRegionStart=0)"
   ]
  },
  {
   "cell_type": "code",
   "execution_count": null,
   "id": "64dc5f12",
   "metadata": {},
   "outputs": [],
   "source": [
    "# plot errors obtained with reconstruction with co-variance principal vectors\n",
    "for feature in range(analysis.max_features):\n",
    "    plot.contourf(eCV[:,:,feature])\n",
    "    cbar=plot.colorbar(label='error for Feature %s'%feature)\n",
    "    plot.show()"
   ]
  },
  {
   "cell_type": "code",
   "execution_count": null,
   "id": "c51a9353",
   "metadata": {},
   "outputs": [],
   "source": [
    "# plot errors obtained with reconstruction with co-kurtosis principal vectors\n",
    "for feature in range(analysis.max_features):\n",
    "    plot.contourf(eCK[:,:,feature])\n",
    "    cbar=plot.colorbar(label='error for Feature %s'%feature)\n",
    "    plot.show()"
   ]
  },
  {
   "cell_type": "code",
   "execution_count": null,
   "id": "21257d2e",
   "metadata": {},
   "outputs": [],
   "source": [
    "# plot errors obtained with scaled reconstruction with co-variance principal vectors\n",
    "for feature in range(analysis.max_features):\n",
    "    plot.contourf(eCVs[:,:,feature])\n",
    "    cbar=plot.colorbar(label='error for Feature %s'%feature)\n",
    "    plot.show()"
   ]
  },
  {
   "cell_type": "code",
   "execution_count": null,
   "id": "02b30dcc",
   "metadata": {},
   "outputs": [],
   "source": [
    "# plot errors obtained with scaled reconstruction with co-kurtosis principal vectors\n",
    "for feature in range(analysis.max_features):\n",
    "    plot.contourf(eCKs[:,:,feature])\n",
    "    cbar=plot.colorbar(label='error for Feature %s'%feature)\n",
    "    plot.show()"
   ]
  },
  {
   "cell_type": "markdown",
   "id": "f2fee58b",
   "metadata": {},
   "source": [
    "## Obtain $L_\\infty$ error norms for all time steps in the second quarter of the domain"
   ]
  },
  {
   "cell_type": "code",
   "execution_count": null,
   "id": "013ebc04",
   "metadata": {},
   "outputs": [],
   "source": [
    "# retain 3 features to reconstruct the data \n",
    "eCV, eCK, eCVs, eCKs = analysis.get_temporal_errors_1D(retain=3,xRegionStart=1024//4, xRegionEnd=1024//2)"
   ]
  },
  {
   "cell_type": "code",
   "execution_count": null,
   "id": "dde44934",
   "metadata": {},
   "outputs": [],
   "source": [
    "# plot errors obtained with reconstruction with co-variance principal vectors\n",
    "for feature in range(analysis.max_features):\n",
    "    plot.contourf(eCV[:,:,feature])\n",
    "    cbar=plot.colorbar(label='error for Feature %s'%feature)\n",
    "    plot.show()"
   ]
  },
  {
   "cell_type": "code",
   "execution_count": null,
   "id": "6a01a4f7",
   "metadata": {},
   "outputs": [],
   "source": [
    "# plot errors obtained with reconstruction with co-kurtosis principal vectors\n",
    "for feature in range(analysis.max_features):\n",
    "    plot.contourf(eCK[:,:,feature])\n",
    "    cbar=plot.colorbar(label='error for Feature %s'%feature)\n",
    "    plot.show()"
   ]
  },
  {
   "cell_type": "code",
   "execution_count": null,
   "id": "f870171b",
   "metadata": {},
   "outputs": [],
   "source": [
    "# plot errors obtained with scaled reconstruction with co-variance principal vectors\n",
    "for feature in range(analysis.max_features):\n",
    "    plot.contourf(eCVs[:,:,feature])\n",
    "    cbar=plot.colorbar(label='error for Feature %s'%feature)\n",
    "    plot.show()"
   ]
  },
  {
   "cell_type": "code",
   "execution_count": null,
   "id": "e2fdd934",
   "metadata": {},
   "outputs": [],
   "source": [
    "# plot errors obtained with scaled reconstruction with co-kurtosis principal vectors\n",
    "for feature in range(analysis.max_features):\n",
    "    plot.contourf(eCKs[:,:,feature])\n",
    "    cbar=plot.colorbar(label='error for Feature %s'%feature)\n",
    "    plot.show()"
   ]
  },
  {
   "cell_type": "markdown",
   "id": "a113cb17",
   "metadata": {},
   "source": [
    "## Obtain $L_\\infty$ error norms for all time steps in the third quarter of the domain"
   ]
  },
  {
   "cell_type": "code",
   "execution_count": null,
   "id": "20a140ea",
   "metadata": {},
   "outputs": [],
   "source": [
    "# retain 3 features to reconstruct the data\n",
    "eCV, eCK, eCVs, eCKs = analysis.get_temporal_errors_1D(retain=3,xRegionStart=1024//2, xRegionEnd=3*1024//4)"
   ]
  },
  {
   "cell_type": "code",
   "execution_count": null,
   "id": "5b042b6a",
   "metadata": {},
   "outputs": [],
   "source": [
    "# plot errors obtained with reconstruction with co-variance principal vectors\n",
    "for feature in range(analysis.max_features):\n",
    "    plot.contourf(eCV[:,:,feature])\n",
    "    cbar=plot.colorbar(label='error for Feature %s'%feature)\n",
    "    plot.show()"
   ]
  },
  {
   "cell_type": "code",
   "execution_count": null,
   "id": "e92f3734",
   "metadata": {},
   "outputs": [],
   "source": [
    "# plot errors obtained with reconstruction with co-kurtosis principal vectors\n",
    "for feature in range(analysis.max_features):\n",
    "    plot.contourf(eCK[:,:,feature])\n",
    "    cbar=plot.colorbar(label='error for Feature %s'%feature)\n",
    "    plot.show()"
   ]
  },
  {
   "cell_type": "code",
   "execution_count": null,
   "id": "36e66b2e",
   "metadata": {},
   "outputs": [],
   "source": [
    "# plot errors obtained with scaled reconstruction with co-variance principal vectors\n",
    "for feature in range(analysis.max_features):\n",
    "    plot.contourf(eCVs[:,:,feature])\n",
    "    cbar=plot.colorbar(label='error for Feature %s'%feature)\n",
    "    plot.show()"
   ]
  },
  {
   "cell_type": "code",
   "execution_count": null,
   "id": "5ba2184c",
   "metadata": {},
   "outputs": [],
   "source": [
    "# plot errors obtained with scaled reconstruction with co-kurtosis principal vectors\n",
    "for feature in range(analysis.max_features):\n",
    "    plot.contourf(eCKs[:,:,feature])\n",
    "    cbar=plot.colorbar(label='error for Feature %s'%feature)\n",
    "    plot.show()"
   ]
  },
  {
   "cell_type": "markdown",
   "id": "716bc73c",
   "metadata": {},
   "source": [
    "## Obtain $L_\\infty$ error norms for all time steps in the fourth quarter of the domain"
   ]
  },
  {
   "cell_type": "code",
   "execution_count": null,
   "id": "6b795df6",
   "metadata": {},
   "outputs": [],
   "source": [
    "# retain 3 features to reconstruct the data\n",
    "eCV, eCK, eCVs, eCKs = analysis.get_temporal_errors_1D(retain=3,xRegionStart=3*1024//4, xRegionEnd=1024)"
   ]
  },
  {
   "cell_type": "code",
   "execution_count": null,
   "id": "da250e8c",
   "metadata": {},
   "outputs": [],
   "source": [
    "# plot errors obtained with reconstruction with co-variance principal vectors\n",
    "for feature in range(analysis.max_features):\n",
    "    plot.contourf(eCV[:,:,feature])\n",
    "    cbar=plot.colorbar(label='error for Feature %s'%feature)\n",
    "    plot.show()"
   ]
  },
  {
   "cell_type": "code",
   "execution_count": null,
   "id": "12dffc99",
   "metadata": {},
   "outputs": [],
   "source": [
    "# plot errors obtained with reconstruction with co-kurtosis principal vectors\n",
    "for feature in range(analysis.max_features):\n",
    "    plot.contourf(eCK[:,:,feature])\n",
    "    cbar=plot.colorbar(label='error for Feature %s'%feature)\n",
    "    plot.show()"
   ]
  },
  {
   "cell_type": "code",
   "execution_count": null,
   "id": "260cb4dc",
   "metadata": {},
   "outputs": [],
   "source": [
    "# plot errors obtained with scaled reconstruction with co-variance principal vectors\n",
    "for feature in range(analysis.max_features):\n",
    "    plot.contourf(eCVs[:,:,feature])\n",
    "    cbar=plot.colorbar(label='error for Feature %s'%feature)\n",
    "    plot.show()"
   ]
  },
  {
   "cell_type": "code",
   "execution_count": null,
   "id": "7b647dd5",
   "metadata": {},
   "outputs": [],
   "source": [
    "# plot errors obtained with scaled reconstruction with co-kurtosis principal vectors\n",
    "for feature in range(analysis.max_features):\n",
    "    plot.contourf(eCKs[:,:,feature])\n",
    "    cbar=plot.colorbar(label='error for Feature %s'%feature)\n",
    "    plot.show()"
   ]
  }
 ],
 "metadata": {
  "kernelspec": {
   "display_name": "Python 3 (ipykernel)",
   "language": "python",
   "name": "python3"
  },
  "language_info": {
   "codemirror_mode": {
    "name": "ipython",
    "version": 3
   },
   "file_extension": ".py",
   "mimetype": "text/x-python",
   "name": "python",
   "nbconvert_exporter": "python",
   "pygments_lexer": "ipython3",
   "version": "3.8.10"
  }
 },
 "nbformat": 4,
 "nbformat_minor": 5
}
