{
 "cells": [
  {
   "cell_type": "code",
   "execution_count": null,
   "id": "63c536de",
   "metadata": {},
   "outputs": [],
   "source": [
    "import numpy, sys\n",
    "import matplotlib.pyplot as plot\n",
    "from ipywidgets import interact\n",
    "sys.path.insert(0,\"../\")\n",
    "import dimred"
   ]
  },
  {
   "cell_type": "code",
   "execution_count": null,
   "id": "65ce3713",
   "metadata": {},
   "outputs": [],
   "source": [
    "# set plotting style\n",
    "plot.style.use('default')"
   ]
  },
  {
   "cell_type": "code",
   "execution_count": null,
   "id": "2deea14f",
   "metadata": {},
   "outputs": [],
   "source": [
    "from dimred.pipeline import DimRedAnalysis\n",
    "analysis = DimRedAnalysis(dataset=None, scaling_type=None) # use default dataset and scaling i.e. syngas & MinMax"
   ]
  },
  {
   "cell_type": "markdown",
   "id": "f652bd47",
   "metadata": {},
   "source": [
    "## Analysis for time t = 10$\\mu s$"
   ]
  },
  {
   "cell_type": "code",
   "execution_count": null,
   "id": "ea7a9f89",
   "metadata": {},
   "outputs": [],
   "source": [
    "# notation:\n",
    "# oData = original data\n",
    "# sData = scaled original data\n",
    "# cvPvecs = principal vectors obtained using the Co-Variance tensor\n",
    "# cvPvals = principal values obtained using the Co-Variance tensor\n",
    "# kuPvecs = principal vectors obtained using the Co-Kurtosis tensor\n",
    "# kuPvals = principal values obtained using the Co-Kurtosis tensor\n",
    "oData, sData, cvPvecs, cvPvals, kuPvecs, kuPvals = analysis.analyse_checkpoint(checkpoint_id=100)"
   ]
  },
  {
   "cell_type": "code",
   "execution_count": null,
   "id": "5d77bbe9",
   "metadata": {},
   "outputs": [],
   "source": [
    "analysis.plot_pvals_vs_modes(sData, idx=100)"
   ]
  },
  {
   "cell_type": "code",
   "execution_count": null,
   "id": "eefdbfdb",
   "metadata": {},
   "outputs": [],
   "source": [
    "# inclination\n",
    "analysis.plot_inclination(sData, idx=100)"
   ]
  },
  {
   "cell_type": "code",
   "execution_count": null,
   "id": "b6ccb3ae",
   "metadata": {},
   "outputs": [],
   "source": [
    "# notation:\n",
    "# rsCV = reconstructed scaled data obtained using principal vectors with Co-Variance tensor\n",
    "# rsCK = reconstructed scaled data obtained using principal vectors with Co-Kurtosis tensor\n",
    "# rCV = reconstructed rescaled data obtained using principal vectors with Co-Variance tensor\n",
    "# rCK = reconstructed rescaled data obtained using principal vectors with Co-Kurtosis tensor\n",
    "\n",
    "rsCV, rsCK, rCV, rVK = analysis.get_reconstructed_data(scaled_data=sData, cov_pvecs=cvPvecs,\n",
    "                                                       kur_pvecs=kuPvecs,\n",
    "                                                       retain=analysis.max_features,\n",
    "                                                       reconstruction_type='linear')"
   ]
  }
 ],
 "metadata": {
  "kernelspec": {
   "display_name": "Python 3 (ipykernel)",
   "language": "python",
   "name": "python3"
  },
  "language_info": {
   "codemirror_mode": {
    "name": "ipython",
    "version": 3
   },
   "file_extension": ".py",
   "mimetype": "text/x-python",
   "name": "python",
   "nbconvert_exporter": "python",
   "pygments_lexer": "ipython3",
   "version": "3.9.7"
  }
 },
 "nbformat": 4,
 "nbformat_minor": 5
}
