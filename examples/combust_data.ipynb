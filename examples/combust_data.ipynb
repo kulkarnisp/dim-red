{
 "cells": [
  {
   "cell_type": "markdown",
   "metadata": {},
   "source": [
    "## Load things"
   ]
  },
  {
   "cell_type": "code",
   "execution_count": 1,
   "metadata": {},
   "outputs": [],
   "source": [
    "import numpy as np\n",
    "import matplotlib.pyplot as plt\n",
    "plt.style.use('ggplot')\n",
    "\n",
    "from ipywidgets import interact as itc\n",
    "import os,sys\n",
    "# sys.addaudithook\n",
    "rpath = os.getcwd()\n",
    "sys.path.insert(0,\"../\")\n",
    "# import utils\n",
    "\n",
    "import dimred ### library of dimension reduction"
   ]
  },
  {
   "cell_type": "code",
   "execution_count": 2,
   "metadata": {},
   "outputs": [],
   "source": [
    "import ipywidgets\n",
    "\n",
    "from dimred.data.loader import LoadOne\n",
    "from dimred.data.preprocess import MinMaxScalar,ZeroMeanScalar,MeanMaxScalar,AvgMaxScalar\n",
    "# dimred.\n",
    "from dimred.data.preprocess import scale_sanity,Scalar,Shaper,scaleMax\n",
    "\n",
    "from dimred.models.linear.transform import Kurtosis\n",
    "from dimred.models.linear.transform import co_variance,co_kurtosis\n",
    "from dimred.tester.plotting import plot_embedding,plot_compare\n",
    "from dimred.tester.metrics import mean_sq_error,mean_abs_error,abs_err\n",
    "\n",
    "from dimred.gaspipe import RunnerTime\n",
    "from dimred.tester.plotting import plot_spectra,img_compare,plot_bars\n",
    "loader = LoadOne()\n"
   ]
  },
  {
   "cell_type": "code",
   "execution_count": 3,
   "metadata": {},
   "outputs": [],
   "source": [
    "# domains = (1,4)\n",
    "\n",
    "# xrig = loader.getDomain(domains)\n",
    "# loader.plotImg(spec=12)"
   ]
  },
  {
   "cell_type": "code",
   "execution_count": 4,
   "metadata": {},
   "outputs": [],
   "source": [
    "rn = RunnerTime()\n",
    "rn.MyScalar=MeanMaxScalar"
   ]
  },
  {
   "cell_type": "code",
   "execution_count": 5,
   "metadata": {},
   "outputs": [],
   "source": [
    "# iter= "
   ]
  },
  {
   "cell_type": "code",
   "execution_count": 6,
   "metadata": {},
   "outputs": [
    {
     "data": {
      "application/vnd.jupyter.widget-view+json": {
       "model_id": "e61e7ce1b3204ba9b70b8423f515304e",
       "version_major": 2,
       "version_minor": 0
      },
      "text/plain": [
       "interactive(children=(Dropdown(description='time_step', options=(0, 1, 2, 3, 4, 5, 6, 7, 8, 9, 10, 11, 12, 13,…"
      ]
     },
     "metadata": {},
     "output_type": "display_data"
    },
    {
     "data": {
      "text/plain": [
       "<function ipywidgets.widgets.interaction._InteractFactory.__call__.<locals>.<lambda>(*args, **kwargs)>"
      ]
     },
     "execution_count": 6,
     "metadata": {},
     "output_type": "execute_result"
    }
   ],
   "source": [
    "itc(rn.mf_plot,time_step=range(201),spec=rn.loader.varid)"
   ]
  },
  {
   "cell_type": "markdown",
   "metadata": {},
   "source": [
    "## Dim reduction"
   ]
  },
  {
   "cell_type": "markdown",
   "metadata": {},
   "source": [
    " Transformation\n",
    "\n",
    "- xreduced is 4D vector:\n",
    "- project back to original space\n",
    "- Low rank newly reconstructed matrix"
   ]
  },
  {
   "cell_type": "code",
   "execution_count": 7,
   "metadata": {},
   "outputs": [
    {
     "data": {
      "application/vnd.jupyter.widget-view+json": {
       "model_id": "283abc342e00413c8e099658c8f52f22",
       "version_major": 2,
       "version_minor": 0
      },
      "text/plain": [
       "interactive(children=(Dropdown(description='time_step', index=100, options=(0, 1, 2, 3, 4, 5, 6, 7, 8, 9, 10, …"
      ]
     },
     "metadata": {},
     "output_type": "display_data"
    },
    {
     "data": {
      "text/plain": [
       "<function ipywidgets.widgets.interaction._InteractFactory.__call__.<locals>.<lambda>(*args, **kwargs)>"
      ]
     },
     "execution_count": 7,
     "metadata": {},
     "output_type": "execute_result"
    }
   ],
   "source": [
    "itc(rn.mf_embed,time_step=range(201))"
   ]
  },
  {
   "cell_type": "markdown",
   "metadata": {},
   "source": [
    "## Interactive!"
   ]
  },
  {
   "cell_type": "code",
   "execution_count": 8,
   "metadata": {},
   "outputs": [
    {
     "data": {
      "application/vnd.jupyter.widget-view+json": {
       "model_id": "3ea7e9a5c5f544b7a19f9842cacec382",
       "version_major": 2,
       "version_minor": 0
      },
      "text/plain": [
       "interactive(children=(Dropdown(description='time_index', options=(0, 1, 2, 3, 4, 5, 6, 7, 8, 9, 10, 11, 12, 13…"
      ]
     },
     "metadata": {},
     "output_type": "display_data"
    }
   ],
   "source": [
    "total =itc(rn.mf_build,time_index=range(201),n_retain=range(12))"
   ]
  },
  {
   "cell_type": "code",
   "execution_count": 9,
   "metadata": {},
   "outputs": [
    {
     "data": {
      "application/vnd.jupyter.widget-view+json": {
       "model_id": "3c6ff341fd294115b552eb622ac46f7d",
       "version_major": 2,
       "version_minor": 0
      },
      "text/plain": [
       "interactive(children=(Dropdown(description='moment', options=('covariance', 'cokurtosis'), value='covariance')…"
      ]
     },
     "metadata": {},
     "output_type": "display_data"
    },
    {
     "data": {
      "text/plain": [
       "<function ipywidgets.widgets.interaction._InteractFactory.__call__.<locals>.<lambda>(*args, **kwargs)>"
      ]
     },
     "execution_count": 9,
     "metadata": {},
     "output_type": "execute_result"
    }
   ],
   "source": [
    "\n",
    "itc(rn.mf_compare,moment=rn.total.keys(),source=rn.total['covariance']['old'].keys(),specs=rn.loader.varid)"
   ]
  },
  {
   "cell_type": "code",
   "execution_count": 10,
   "metadata": {},
   "outputs": [
    {
     "data": {
      "application/vnd.jupyter.widget-view+json": {
       "model_id": "fd5b1f4289c246f7802face0b5bfaf87",
       "version_major": 2,
       "version_minor": 0
      },
      "text/plain": [
       "interactive(children=(Dropdown(description='time_step', index=100, options=(0, 1, 2, 3, 4, 5, 6, 7, 8, 9, 10, …"
      ]
     },
     "metadata": {},
     "output_type": "display_data"
    },
    {
     "data": {
      "text/plain": [
       "<function ipywidgets.widgets.interaction._InteractFactory.__call__.<locals>.<lambda>(*args, **kwargs)>"
      ]
     },
     "execution_count": 10,
     "metadata": {},
     "output_type": "execute_result"
    }
   ],
   "source": [
    "\n",
    "itc(rn.mf_orient,time_step=range(201))"
   ]
  },
  {
   "cell_type": "code",
   "execution_count": 11,
   "metadata": {},
   "outputs": [
    {
     "data": {
      "application/vnd.jupyter.widget-view+json": {
       "model_id": "ba3fd8900d2743fe8f5952227d9ead1e",
       "version_major": 2,
       "version_minor": 0
      },
      "text/plain": [
       "interactive(children=(Dropdown(description='time_step', options=(0, 1, 2, 3, 4, 5, 6, 7, 8, 9, 10, 11, 12, 13,…"
      ]
     },
     "metadata": {},
     "output_type": "display_data"
    },
    {
     "data": {
      "text/plain": [
       "<function ipywidgets.widgets.interaction._InteractFactory.__call__.<locals>.<lambda>(*args, **kwargs)>"
      ]
     },
     "execution_count": 11,
     "metadata": {},
     "output_type": "execute_result"
    }
   ],
   "source": [
    "itc(rn.mf_retain,time_step=range(201),scale=['linear','log'])"
   ]
  },
  {
   "cell_type": "code",
   "execution_count": 12,
   "metadata": {},
   "outputs": [
    {
     "data": {
      "text/plain": [
       "{'H2': 0,\n",
       " ' O2': 1,\n",
       " ' O': 2,\n",
       " ' OH': 3,\n",
       " ' H2O': 4,\n",
       " ' H': 5,\n",
       " ' HO2': 6,\n",
       " ' H2O2': 7,\n",
       " ' CO': 8,\n",
       " ' CO2': 9,\n",
       " ' HCO': 10,\n",
       " ' N2': 11,\n",
       " ' T': 12,\n",
       " ' P': 13,\n",
       " ' vx': 14,\n",
       " ' vy': 15,\n",
       " ' vz': 16}"
      ]
     },
     "execution_count": 12,
     "metadata": {},
     "output_type": "execute_result"
    }
   ],
   "source": [
    "rn.loader.varid"
   ]
  },
  {
   "cell_type": "code",
   "execution_count": 13,
   "metadata": {},
   "outputs": [
    {
     "data": {
      "application/vnd.jupyter.widget-view+json": {
       "model_id": "65c05d9647b04049a27d123d62f49f5a",
       "version_major": 2,
       "version_minor": 0
      },
      "text/plain": [
       "interactive(children=(Dropdown(description='source', options=('production', 'reaction', 'mass', 'hrr'), value=…"
      ]
     },
     "metadata": {},
     "output_type": "display_data"
    },
    {
     "data": {
      "text/plain": [
       "<function ipywidgets.widgets.interaction._InteractFactory.__call__.<locals>.<lambda>(*args, **kwargs)>"
      ]
     },
     "execution_count": 13,
     "metadata": {},
     "output_type": "execute_result"
    }
   ],
   "source": [
    "\n",
    "itc(rn.mf_errors,source=rn.total['covariance']['old'].keys())"
   ]
  },
  {
   "cell_type": "code",
   "execution_count": 14,
   "metadata": {},
   "outputs": [
    {
     "name": "stdout",
     "output_type": "stream",
     "text": [
      "reading file autoignition.0.0000E+00.field.mpi...\n",
      "co_variance reconstruction error after retaining 4 vectors is 1.637e-02\n",
      "val kurtosis reconstruction error after retaining 4 vectors is 1.946e-02\n",
      "reading file autoignition.1.0000E-07.field.mpi...\n",
      "co_variance reconstruction error after retaining 4 vectors is 2.513e-03\n",
      "val kurtosis reconstruction error after retaining 4 vectors is 2.881e-03\n",
      "reading file autoignition.2.0000E-07.field.mpi...\n",
      "co_variance reconstruction error after retaining 4 vectors is 2.303e-03\n",
      "val kurtosis reconstruction error after retaining 4 vectors is 2.597e-03\n",
      "reading file autoignition.3.0000E-07.field.mpi...\n",
      "co_variance reconstruction error after retaining 4 vectors is 2.176e-03\n",
      "val kurtosis reconstruction error after retaining 4 vectors is 2.389e-03\n",
      "reading file autoignition.4.0000E-07.field.mpi...\n",
      "co_variance reconstruction error after retaining 4 vectors is 2.060e-03\n",
      "val kurtosis reconstruction error after retaining 4 vectors is 2.250e-03\n",
      "reading file autoignition.5.0000E-07.field.mpi...\n",
      "co_variance reconstruction error after retaining 4 vectors is 1.905e-03\n",
      "val kurtosis reconstruction error after retaining 4 vectors is 2.111e-03\n",
      "reading file autoignition.6.0000E-07.field.mpi...\n",
      "co_variance reconstruction error after retaining 4 vectors is 1.670e-03\n",
      "val kurtosis reconstruction error after retaining 4 vectors is 2.025e-03\n",
      "reading file autoignition.7.0000E-07.field.mpi...\n",
      "co_variance reconstruction error after retaining 4 vectors is 1.135e-03\n",
      "val kurtosis reconstruction error after retaining 4 vectors is 1.982e-03\n",
      "reading file autoignition.8.0000E-07.field.mpi...\n",
      "co_variance reconstruction error after retaining 4 vectors is 4.288e-04\n",
      "val kurtosis reconstruction error after retaining 4 vectors is 1.906e-03\n",
      "reading file autoignition.9.0000E-07.field.mpi...\n",
      "co_variance reconstruction error after retaining 4 vectors is 1.460e-04\n",
      "val kurtosis reconstruction error after retaining 4 vectors is 1.846e-03\n",
      "reading file autoignition.1.0000E-06.field.mpi...\n",
      "co_variance reconstruction error after retaining 4 vectors is 6.366e-05\n",
      "val kurtosis reconstruction error after retaining 4 vectors is 1.808e-03\n",
      "reading file autoignition.1.1000E-06.field.mpi...\n",
      "co_variance reconstruction error after retaining 4 vectors is 2.876e-05\n",
      "val kurtosis reconstruction error after retaining 4 vectors is 1.817e-03\n",
      "reading file autoignition.1.2000E-06.field.mpi...\n",
      "co_variance reconstruction error after retaining 4 vectors is 1.533e-05\n",
      "val kurtosis reconstruction error after retaining 4 vectors is 1.799e-03\n",
      "reading file autoignition.1.3000E-06.field.mpi...\n",
      "co_variance reconstruction error after retaining 4 vectors is 1.013e-05\n",
      "val kurtosis reconstruction error after retaining 4 vectors is 1.763e-03\n",
      "reading file autoignition.1.4000E-06.field.mpi...\n",
      "co_variance reconstruction error after retaining 4 vectors is 1.020e-05\n",
      "val kurtosis reconstruction error after retaining 4 vectors is 1.686e-03\n",
      "reading file autoignition.1.5000E-06.field.mpi...\n",
      "co_variance reconstruction error after retaining 4 vectors is 1.142e-05\n",
      "val kurtosis reconstruction error after retaining 4 vectors is 1.657e-03\n",
      "reading file autoignition.1.6000E-06.field.mpi...\n",
      "co_variance reconstruction error after retaining 4 vectors is 6.457e-06\n",
      "val kurtosis reconstruction error after retaining 4 vectors is 1.712e-03\n",
      "reading file autoignition.1.7000E-06.field.mpi...\n",
      "co_variance reconstruction error after retaining 4 vectors is 5.244e-06\n",
      "val kurtosis reconstruction error after retaining 4 vectors is 1.665e-03\n",
      "reading file autoignition.1.8000E-06.field.mpi...\n",
      "co_variance reconstruction error after retaining 4 vectors is 4.943e-06\n",
      "val kurtosis reconstruction error after retaining 4 vectors is 1.616e-03\n",
      "reading file autoignition.1.9000E-06.field.mpi...\n",
      "co_variance reconstruction error after retaining 4 vectors is 5.194e-06\n",
      "val kurtosis reconstruction error after retaining 4 vectors is 1.574e-03\n",
      "reading file autoignition.2.0000E-06.field.mpi...\n",
      "co_variance reconstruction error after retaining 4 vectors is 4.953e-06\n",
      "val kurtosis reconstruction error after retaining 4 vectors is 1.564e-03\n",
      "reading file autoignition.2.1000E-06.field.mpi...\n",
      "co_variance reconstruction error after retaining 4 vectors is 4.404e-06\n",
      "val kurtosis reconstruction error after retaining 4 vectors is 1.549e-03\n",
      "reading file autoignition.2.2000E-06.field.mpi...\n",
      "co_variance reconstruction error after retaining 4 vectors is 4.727e-06\n",
      "val kurtosis reconstruction error after retaining 4 vectors is 1.489e-03\n",
      "reading file autoignition.2.3000E-06.field.mpi...\n",
      "co_variance reconstruction error after retaining 4 vectors is 5.125e-06\n",
      "val kurtosis reconstruction error after retaining 4 vectors is 1.481e-03\n",
      "reading file autoignition.2.4000E-06.field.mpi...\n",
      "co_variance reconstruction error after retaining 4 vectors is 4.599e-06\n",
      "val kurtosis reconstruction error after retaining 4 vectors is 1.506e-03\n",
      "reading file autoignition.2.5000E-06.field.mpi...\n",
      "co_variance reconstruction error after retaining 4 vectors is 4.095e-06\n",
      "val kurtosis reconstruction error after retaining 4 vectors is 1.503e-03\n",
      "reading file autoignition.2.6000E-06.field.mpi...\n",
      "co_variance reconstruction error after retaining 4 vectors is 4.432e-06\n",
      "val kurtosis reconstruction error after retaining 4 vectors is 1.499e-03\n",
      "reading file autoignition.2.7000E-06.field.mpi...\n",
      "co_variance reconstruction error after retaining 4 vectors is 3.008e-06\n",
      "val kurtosis reconstruction error after retaining 4 vectors is 1.456e-03\n",
      "reading file autoignition.2.8000E-06.field.mpi...\n",
      "co_variance reconstruction error after retaining 4 vectors is 6.963e-06\n",
      "val kurtosis reconstruction error after retaining 4 vectors is 1.284e-03\n",
      "reading file autoignition.2.9000E-06.field.mpi...\n",
      "co_variance reconstruction error after retaining 4 vectors is 8.532e-06\n",
      "val kurtosis reconstruction error after retaining 4 vectors is 1.339e-03\n",
      "reading file autoignition.3.0000E-06.field.mpi...\n",
      "co_variance reconstruction error after retaining 4 vectors is 5.043e-06\n",
      "val kurtosis reconstruction error after retaining 4 vectors is 1.491e-03\n",
      "reading file autoignition.3.1000E-06.field.mpi...\n",
      "co_variance reconstruction error after retaining 4 vectors is 3.082e-06\n",
      "val kurtosis reconstruction error after retaining 4 vectors is 1.519e-03\n",
      "reading file autoignition.3.2000E-06.field.mpi...\n",
      "co_variance reconstruction error after retaining 4 vectors is 1.030e-06\n",
      "val kurtosis reconstruction error after retaining 4 vectors is 1.511e-03\n",
      "reading file autoignition.3.3000E-06.field.mpi...\n",
      "co_variance reconstruction error after retaining 4 vectors is 1.701e-08\n",
      "val kurtosis reconstruction error after retaining 4 vectors is 1.497e-03\n",
      "reading file autoignition.3.4000E-06.field.mpi...\n",
      "co_variance reconstruction error after retaining 4 vectors is 3.300e-06\n",
      "val kurtosis reconstruction error after retaining 4 vectors is 1.479e-03\n",
      "reading file autoignition.3.5000E-06.field.mpi...\n",
      "co_variance reconstruction error after retaining 4 vectors is 1.345e-05\n",
      "val kurtosis reconstruction error after retaining 4 vectors is 1.471e-03\n",
      "reading file autoignition.3.6000E-06.field.mpi...\n",
      "co_variance reconstruction error after retaining 4 vectors is 4.267e-05\n",
      "val kurtosis reconstruction error after retaining 4 vectors is 1.438e-03\n",
      "reading file autoignition.3.7000E-06.field.mpi...\n",
      "co_variance reconstruction error after retaining 4 vectors is 1.313e-04\n",
      "val kurtosis reconstruction error after retaining 4 vectors is 1.406e-03\n",
      "reading file autoignition.3.8000E-06.field.mpi...\n",
      "co_variance reconstruction error after retaining 4 vectors is 2.770e-04\n",
      "val kurtosis reconstruction error after retaining 4 vectors is 1.397e-03\n",
      "reading file autoignition.3.9000E-06.field.mpi...\n",
      "co_variance reconstruction error after retaining 4 vectors is 4.646e-04\n",
      "val kurtosis reconstruction error after retaining 4 vectors is 1.396e-03\n",
      "reading file autoignition.4.0000E-06.field.mpi...\n",
      "co_variance reconstruction error after retaining 4 vectors is 6.334e-04\n",
      "val kurtosis reconstruction error after retaining 4 vectors is 1.397e-03\n",
      "reading file autoignition.4.1000E-06.field.mpi...\n",
      "co_variance reconstruction error after retaining 4 vectors is 7.862e-04\n",
      "val kurtosis reconstruction error after retaining 4 vectors is 1.420e-03\n",
      "reading file autoignition.4.2000E-06.field.mpi...\n",
      "co_variance reconstruction error after retaining 4 vectors is 1.011e-03\n",
      "val kurtosis reconstruction error after retaining 4 vectors is 1.450e-03\n",
      "reading file autoignition.4.3000E-06.field.mpi...\n",
      "co_variance reconstruction error after retaining 4 vectors is 1.093e-03\n",
      "val kurtosis reconstruction error after retaining 4 vectors is 1.428e-03\n",
      "reading file autoignition.4.4000E-06.field.mpi...\n",
      "co_variance reconstruction error after retaining 4 vectors is 1.117e-03\n",
      "val kurtosis reconstruction error after retaining 4 vectors is 1.397e-03\n",
      "reading file autoignition.4.5000E-06.field.mpi...\n",
      "co_variance reconstruction error after retaining 4 vectors is 1.146e-03\n",
      "val kurtosis reconstruction error after retaining 4 vectors is 1.378e-03\n",
      "reading file autoignition.4.6000E-06.field.mpi...\n",
      "co_variance reconstruction error after retaining 4 vectors is 1.168e-03\n",
      "val kurtosis reconstruction error after retaining 4 vectors is 1.363e-03\n",
      "reading file autoignition.4.7000E-06.field.mpi...\n",
      "co_variance reconstruction error after retaining 4 vectors is 1.186e-03\n",
      "val kurtosis reconstruction error after retaining 4 vectors is 1.354e-03\n",
      "reading file autoignition.4.8000E-06.field.mpi...\n",
      "co_variance reconstruction error after retaining 4 vectors is 1.202e-03\n",
      "val kurtosis reconstruction error after retaining 4 vectors is 1.346e-03\n",
      "reading file autoignition.4.9000E-06.field.mpi...\n",
      "co_variance reconstruction error after retaining 4 vectors is 1.219e-03\n",
      "val kurtosis reconstruction error after retaining 4 vectors is 1.341e-03\n",
      "reading file autoignition.5.0000E-06.field.mpi...\n",
      "co_variance reconstruction error after retaining 4 vectors is 1.230e-03\n",
      "val kurtosis reconstruction error after retaining 4 vectors is 1.334e-03\n",
      "reading file autoignition.5.1000E-06.field.mpi...\n",
      "co_variance reconstruction error after retaining 4 vectors is 1.237e-03\n",
      "val kurtosis reconstruction error after retaining 4 vectors is 1.326e-03\n",
      "reading file autoignition.5.2000E-06.field.mpi...\n",
      "co_variance reconstruction error after retaining 4 vectors is 1.242e-03\n",
      "val kurtosis reconstruction error after retaining 4 vectors is 1.317e-03\n",
      "reading file autoignition.5.3000E-06.field.mpi...\n",
      "co_variance reconstruction error after retaining 4 vectors is 1.245e-03\n",
      "val kurtosis reconstruction error after retaining 4 vectors is 1.308e-03\n",
      "reading file autoignition.5.4000E-06.field.mpi...\n",
      "co_variance reconstruction error after retaining 4 vectors is 1.246e-03\n",
      "val kurtosis reconstruction error after retaining 4 vectors is 1.298e-03\n",
      "reading file autoignition.5.5000E-06.field.mpi...\n",
      "co_variance reconstruction error after retaining 4 vectors is 1.249e-03\n",
      "val kurtosis reconstruction error after retaining 4 vectors is 1.289e-03\n",
      "reading file autoignition.5.6000E-06.field.mpi...\n",
      "co_variance reconstruction error after retaining 4 vectors is 1.253e-03\n",
      "val kurtosis reconstruction error after retaining 4 vectors is 1.280e-03\n",
      "reading file autoignition.5.7000E-06.field.mpi...\n",
      "co_variance reconstruction error after retaining 4 vectors is 1.247e-03\n",
      "val kurtosis reconstruction error after retaining 4 vectors is 1.266e-03\n",
      "reading file autoignition.5.8000E-06.field.mpi...\n",
      "co_variance reconstruction error after retaining 4 vectors is 1.239e-03\n",
      "val kurtosis reconstruction error after retaining 4 vectors is 1.250e-03\n",
      "reading file autoignition.5.9000E-06.field.mpi...\n",
      "co_variance reconstruction error after retaining 4 vectors is 1.232e-03\n",
      "val kurtosis reconstruction error after retaining 4 vectors is 1.236e-03\n",
      "reading file autoignition.6.0000E-06.field.mpi...\n",
      "co_variance reconstruction error after retaining 4 vectors is 1.229e-03\n",
      "val kurtosis reconstruction error after retaining 4 vectors is 1.225e-03\n",
      "reading file autoignition.6.1000E-06.field.mpi...\n",
      "co_variance reconstruction error after retaining 4 vectors is 1.229e-03\n",
      "val kurtosis reconstruction error after retaining 4 vectors is 1.217e-03\n",
      "reading file autoignition.6.2000E-06.field.mpi...\n",
      "co_variance reconstruction error after retaining 4 vectors is 1.232e-03\n",
      "val kurtosis reconstruction error after retaining 4 vectors is 1.213e-03\n",
      "reading file autoignition.6.3000E-06.field.mpi...\n",
      "co_variance reconstruction error after retaining 4 vectors is 1.238e-03\n",
      "val kurtosis reconstruction error after retaining 4 vectors is 1.212e-03\n",
      "reading file autoignition.6.4000E-06.field.mpi...\n",
      "co_variance reconstruction error after retaining 4 vectors is 1.248e-03\n",
      "val kurtosis reconstruction error after retaining 4 vectors is 1.214e-03\n",
      "reading file autoignition.6.5000E-06.field.mpi...\n",
      "co_variance reconstruction error after retaining 4 vectors is 1.259e-03\n",
      "val kurtosis reconstruction error after retaining 4 vectors is 1.217e-03\n",
      "reading file autoignition.6.6000E-06.field.mpi...\n",
      "co_variance reconstruction error after retaining 4 vectors is 1.272e-03\n",
      "val kurtosis reconstruction error after retaining 4 vectors is 1.222e-03\n",
      "reading file autoignition.6.7000E-06.field.mpi...\n",
      "co_variance reconstruction error after retaining 4 vectors is 1.288e-03\n",
      "val kurtosis reconstruction error after retaining 4 vectors is 1.230e-03\n",
      "reading file autoignition.6.8000E-06.field.mpi...\n",
      "co_variance reconstruction error after retaining 4 vectors is 1.301e-03\n",
      "val kurtosis reconstruction error after retaining 4 vectors is 1.235e-03\n",
      "reading file autoignition.6.9000E-06.field.mpi...\n",
      "co_variance reconstruction error after retaining 4 vectors is 1.323e-03\n",
      "val kurtosis reconstruction error after retaining 4 vectors is 1.248e-03\n",
      "reading file autoignition.7.0000E-06.field.mpi...\n",
      "co_variance reconstruction error after retaining 4 vectors is 1.344e-03\n"
     ]
    }
   ],
   "source": [
    "rn.mf_alldata()"
   ]
  },
  {
   "cell_type": "code",
   "execution_count": null,
   "metadata": {},
   "outputs": [
    {
     "data": {
      "application/vnd.jupyter.widget-view+json": {
       "model_id": "665a4445a33443028e65852c4784c705",
       "version_major": 2,
       "version_minor": 0
      },
      "text/plain": [
       "interactive(children=(Dropdown(description='source', options=('production', 'reaction', 'mass', 'hrr'), value=…"
      ]
     },
     "metadata": {},
     "output_type": "display_data"
    },
    {
     "data": {
      "text/plain": [
       "<function ipywidgets.widgets.interaction._InteractFactory.__call__.<locals>.<lambda>(*args, **kwargs)>"
      ]
     },
     "execution_count": 16,
     "metadata": {},
     "output_type": "execute_result"
    }
   ],
   "source": [
    "\n",
    "itc(rn.mf_allerror,source=rn.total['covariance']['old'].keys(),spec=rn.loader.varid)\n",
    "# plt.figure(figsize=(18,6))"
   ]
  },
  {
   "cell_type": "code",
   "execution_count": null,
   "metadata": {},
   "outputs": [
    {
     "data": {
      "text/plain": [
       "{'H2': 0,\n",
       " ' O2': 1,\n",
       " ' O': 2,\n",
       " ' OH': 3,\n",
       " ' H2O': 4,\n",
       " ' H': 5,\n",
       " ' HO2': 6,\n",
       " ' H2O2': 7,\n",
       " ' CO': 8,\n",
       " ' CO2': 9,\n",
       " ' HCO': 10,\n",
       " ' N2': 11,\n",
       " ' T': 12,\n",
       " ' P': 13,\n",
       " ' vx': 14,\n",
       " ' vy': 15,\n",
       " ' vz': 16}"
      ]
     },
     "execution_count": 17,
     "metadata": {},
     "output_type": "execute_result"
    }
   ],
   "source": [
    "rn.loader.varid"
   ]
  }
 ],
 "metadata": {
  "hide_input": false,
  "kernelspec": {
   "display_name": "Python 3",
   "language": "python",
   "name": "python3"
  },
  "language_info": {
   "codemirror_mode": {
    "name": "ipython",
    "version": 3
   },
   "file_extension": ".py",
   "mimetype": "text/x-python",
   "name": "python",
   "nbconvert_exporter": "python",
   "pygments_lexer": "ipython3",
   "version": "3.9.7"
  },
  "toc": {
   "base_numbering": 1,
   "nav_menu": {},
   "number_sections": true,
   "sideBar": true,
   "skip_h1_title": false,
   "title_cell": "Table of Contents",
   "title_sidebar": "Contents",
   "toc_cell": false,
   "toc_position": {},
   "toc_section_display": true,
   "toc_window_display": false
  },
  "varInspector": {
   "cols": {
    "lenName": 16,
    "lenType": 16,
    "lenVar": 40
   },
   "kernels_config": {
    "python": {
     "delete_cmd_postfix": "",
     "delete_cmd_prefix": "del ",
     "library": "var_list.py",
     "varRefreshCmd": "print(var_dic_list())"
    },
    "r": {
     "delete_cmd_postfix": ") ",
     "delete_cmd_prefix": "rm(",
     "library": "var_list.r",
     "varRefreshCmd": "cat(var_dic_list()) "
    }
   },
   "types_to_exclude": [
    "module",
    "function",
    "builtin_function_or_method",
    "instance",
    "_Feature"
   ],
   "window_display": true
  }
 },
 "nbformat": 4,
 "nbformat_minor": 4
}
