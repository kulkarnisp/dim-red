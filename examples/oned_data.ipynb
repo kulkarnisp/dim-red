{
 "cells": [
  {
   "cell_type": "markdown",
   "metadata": {},
   "source": [
    "## Dimensionality analysis interface"
   ]
  },
  {
   "cell_type": "markdown",
   "metadata": {},
   "source": [
    "\n",
    "- [**Zero dimensional mixture data**](http://10.24.50.14:9031/apps/examples/mixture_data.ipynb?appmode_scroll=200)\n",
    "- [**One dimensional syngas**]\n",
    "- [**HCCI two dim dataset**](http://10.24.50.14:9031/apps/examples/hcci_data.ipynb?appmode_scroll=0)\n"
   ]
  },
  {
   "cell_type": "markdown",
   "metadata": {},
   "source": [
    "## Load things"
   ]
  },
  {
   "cell_type": "code",
   "execution_count": 3,
   "metadata": {},
   "outputs": [],
   "source": [
    "import numpy as np\n",
    "import matplotlib.pyplot as plt\n",
    "plt.style.use('ggplot')\n",
    "\n",
    "import pandas as pd\n",
    "\n",
    "import os,sys\n",
    "# sys.addaudithook\n",
    "rpath = os.getcwd()\n",
    "sys.path.insert(0,\"../\")\n",
    "# import utils\n",
    "\n",
    "import dimred ### library of dimension reduction\n",
    "from dimred.newpipe import Elbow\n",
    "from dimred.newcistern import Knob\n",
    "\n",
    "from dimred.data.preprocess import MinMaxScalar,AvgMaxScalar,MaxAvgScalar,scaleData\n",
    "from dimred.models.linear.transform import co_kurtosis,ra_kurtosis,val_kurtosis"
   ]
  },
  {
   "cell_type": "code",
   "execution_count": 53,
   "metadata": {},
   "outputs": [],
   "source": [
    "from dimred.data.loader import LoadOne,LoadMPI,LoadNumpy\n",
    "from dimred.flowpipe import ServicePIpe\n",
    "# from dimred.data.oldloader2 import localpath__\n"
   ]
  },
  {
   "cell_type": "code",
   "execution_count": 53,
   "metadata": {},
   "outputs": [
    {
     "name": "stdout",
     "output_type": "stream",
     "text": [
      "Time required for co_variance is 6.270409e-03 sec\n",
      "co_variance reconstruction error after retaining 4 vectors is 9.986e-03\n"
     ]
    },
    {
     "data": {
      "application/vnd.jupyter.widget-view+json": {
       "model_id": "946574383aab4a3b8f8967fd9c367e9a",
       "version_major": 2,
       "version_minor": 0
      },
      "text/plain": [
       "  0%|          | 0/1024 [00:00<?, ?it/s]"
      ]
     },
     "metadata": {},
     "output_type": "display_data"
    },
    {
     "name": "stdout",
     "output_type": "stream",
     "text": [
      "Time required for val_kurtosis is 8.199358e-02 sec\n",
      "val_kurtosis reconstruction error after retaining 4 vectors is 3.931e-03\n"
     ]
    }
   ],
   "source": [
    "rn = Elbow('onedmeth')\n",
    "rn.MyScalar = MinMaxScalar\n",
    "\n",
    "rn.mf_build(10);\n",
    "# rn.mf_alldata();\n",
    "topbar = Knob(rn)\n"
   ]
  },
  {
   "cell_type": "code",
   "execution_count": 54,
   "metadata": {
    "scrolled": false
   },
   "outputs": [
    {
     "data": {
      "application/vnd.jupyter.widget-view+json": {
       "model_id": "723009561cd74ffc9735323dc7703345",
       "version_major": 2,
       "version_minor": 0
      },
      "text/plain": [
       "Tab(children=(VBox(children=(IntSlider(value=10, description='sampling rate', max=21), Dropdown(description='S…"
      ]
     },
     "metadata": {},
     "output_type": "display_data"
    }
   ],
   "source": [
    "topbar"
   ]
  },
  {
   "cell_type": "code",
   "execution_count": 64,
   "metadata": {},
   "outputs": [
    {
     "name": "stdout",
     "output_type": "stream",
     "text": [
      "Time required for co_variance is 3.838539e-05 sec\n",
      "co_variance reconstruction error after retaining 4 vectors is 1.084e-03\n"
     ]
    },
    {
     "data": {
      "application/vnd.jupyter.widget-view+json": {
       "model_id": "3e5a4d9eb8814b5dbdbaec4504d18f4d",
       "version_major": 2,
       "version_minor": 0
      },
      "text/plain": [
       "  0%|          | 0/1024 [00:00<?, ?it/s]"
      ]
     },
     "metadata": {},
     "output_type": "display_data"
    },
    {
     "name": "stdout",
     "output_type": "stream",
     "text": [
      "Time required for val_kurtosis is 7.937336e-02 sec\n",
      "val_kurtosis reconstruction error after retaining 4 vectors is 1.153e-03\n"
     ]
    }
   ],
   "source": [
    "sn = Elbow('onedseth')\n",
    "sn.MyScalar = MaxAvgScalar\n",
    "\n",
    "sn.mf_build(10);\n",
    "# rn.mf_alldata();\n",
    "midbar = Knob(sn)\n"
   ]
  },
  {
   "cell_type": "code",
   "execution_count": 65,
   "metadata": {},
   "outputs": [
    {
     "data": {
      "application/vnd.jupyter.widget-view+json": {
       "model_id": "bf30e901578743899f3df5249256c33f",
       "version_major": 2,
       "version_minor": 0
      },
      "text/plain": [
       "Tab(children=(VBox(children=(IntSlider(value=10, description='sampling rate', max=21), Dropdown(description='S…"
      ]
     },
     "metadata": {},
     "output_type": "display_data"
    }
   ],
   "source": [
    "midbar"
   ]
  },
  {
   "cell_type": "code",
   "execution_count": 15,
   "metadata": {},
   "outputs": [
    {
     "data": {
      "text/plain": [
       "{'H2': 0,\n",
       " ' O2': 1,\n",
       " ' O': 2,\n",
       " ' OH': 3,\n",
       " ' H2O': 4,\n",
       " ' H': 5,\n",
       " ' HO2': 6,\n",
       " ' H2O2': 7,\n",
       " ' CO': 8,\n",
       " ' CO2': 9,\n",
       " ' HCO': 10,\n",
       " ' N2': 11,\n",
       " ' T': 12,\n",
       " ' P': 13,\n",
       " ' vx': 14,\n",
       " ' vy': 15,\n",
       " ' vz': 16}"
      ]
     },
     "execution_count": 15,
     "metadata": {},
     "output_type": "execute_result"
    }
   ],
   "source": [
    "rn.loader.varid"
   ]
  }
 ],
 "metadata": {
  "hide_input": false,
  "kernelspec": {
   "display_name": "Python 3 (ipykernel)",
   "language": "python",
   "name": "python3"
  },
  "language_info": {
   "codemirror_mode": {
    "name": "ipython",
    "version": 3
   },
   "file_extension": ".py",
   "mimetype": "text/x-python",
   "name": "python",
   "nbconvert_exporter": "python",
   "pygments_lexer": "ipython3",
   "version": "3.9.7"
  },
  "toc": {
   "base_numbering": 1,
   "nav_menu": {},
   "number_sections": true,
   "sideBar": true,
   "skip_h1_title": false,
   "title_cell": "Table of Contents",
   "title_sidebar": "Contents",
   "toc_cell": false,
   "toc_position": {},
   "toc_section_display": true,
   "toc_window_display": false
  },
  "varInspector": {
   "cols": {
    "lenName": 16,
    "lenType": 16,
    "lenVar": 40
   },
   "kernels_config": {
    "python": {
     "delete_cmd_postfix": "",
     "delete_cmd_prefix": "del ",
     "library": "var_list.py",
     "varRefreshCmd": "print(var_dic_list())"
    },
    "r": {
     "delete_cmd_postfix": ") ",
     "delete_cmd_prefix": "rm(",
     "library": "var_list.r",
     "varRefreshCmd": "cat(var_dic_list()) "
    }
   },
   "position": {
    "height": "544.844px",
    "left": "135px",
    "right": "20px",
    "top": "263px",
    "width": "327px"
   },
   "types_to_exclude": [
    "module",
    "function",
    "builtin_function_or_method",
    "instance",
    "_Feature"
   ],
   "window_display": false
  }
 },
 "nbformat": 4,
 "nbformat_minor": 4
}
