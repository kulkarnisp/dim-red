{
 "cells": [
  {
   "cell_type": "code",
   "execution_count": 1,
   "id": "5fe28e40",
   "metadata": {},
   "outputs": [],
   "source": [
    "import numpy as np\n",
    "import matplotlib.pyplot as plt\n",
    "plt.style.use('default')\n",
    "\n",
    "\n",
    "from ipywidgets import interact\n",
    "import os,sys\n",
    "# sys.addaudithook\n",
    "rpath = os.getcwd()\n",
    "sys.path.insert(0,\"../\")\n",
    "# import utils\n",
    "\n",
    "import dimred ### library of dimension reduction"
   ]
  },
  {
   "cell_type": "code",
   "execution_count": 2,
   "id": "5828b1f7",
   "metadata": {},
   "outputs": [
    {
     "ename": "SyntaxError",
     "evalue": "invalid syntax (preprocess.py, line 21)",
     "output_type": "error",
     "traceback": [
      "Traceback \u001b[0;36m(most recent call last)\u001b[0m:\n",
      "  File \u001b[1;32m\"/home/rakash/anaconda3/envs/spam/lib/python3.9/site-packages/IPython/core/interactiveshell.py\"\u001b[0m, line \u001b[1;32m3437\u001b[0m, in \u001b[1;35mrun_code\u001b[0m\n    exec(code_obj, self.user_global_ns, self.user_ns)\n",
      "\u001b[0;36m  File \u001b[0;32m\"<ipython-input-2-b03f672be229>\"\u001b[0;36m, line \u001b[0;32m2\u001b[0;36m, in \u001b[0;35m<module>\u001b[0;36m\u001b[0m\n\u001b[0;31m    from dimred.data.preprocess import MinMaxScalar,ZeroMeanScalar,MeanMaxScalar\u001b[0m\n",
      "\u001b[0;36m  File \u001b[0;32m\"/home/rakash/work/lab/simulations/cantera/syngas/cantera/dim-red/dim-red/examples/../dimred/data/preprocess.py\"\u001b[0;36m, line \u001b[0;32m21\u001b[0m\n\u001b[0;31m    return x/=xmax\u001b[0m\n\u001b[0m            ^\u001b[0m\n\u001b[0;31mSyntaxError\u001b[0m\u001b[0;31m:\u001b[0m invalid syntax\n"
     ]
    }
   ],
   "source": [
    "from dimred.data.loader import LoadOne\n",
    "from dimred.data.preprocess import MinMaxScalar,ZeroMeanScalar,MeanMaxScalar\n",
    "# dimred.\n",
    "from dimred.data.preprocess import scale_sanity,Scalar\n",
    "\n",
    "from dimred.models.linear.transform import Kurtosis\n",
    "from dimred.models.linear.transform import co_variance,co_kurtosis\n",
    "from dimred.tester.plotting import plot_embedding,plot_compare\n",
    "from dimred.tester.metrics import mean_sq_error,mean_abs_error"
   ]
  },
  {
   "cell_type": "code",
   "execution_count": null,
   "id": "860cb1ec",
   "metadata": {},
   "outputs": [],
   "source": []
  }
 ],
 "metadata": {
  "kernelspec": {
   "display_name": "Python 3",
   "language": "python",
   "name": "python3"
  },
  "language_info": {
   "codemirror_mode": {
    "name": "ipython",
    "version": 3
   },
   "file_extension": ".py",
   "mimetype": "text/x-python",
   "name": "python",
   "nbconvert_exporter": "python",
   "pygments_lexer": "ipython3",
   "version": "3.9.5"
  }
 },
 "nbformat": 4,
 "nbformat_minor": 5
}
