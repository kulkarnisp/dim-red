{
 "cells": [
  {
   "cell_type": "markdown",
   "metadata": {},
   "source": [
    "## Dimensionality reduction: synthetic data"
   ]
  },
  {
   "cell_type": "markdown",
   "metadata": {},
   "source": [
    "### Step 1: read synthetic data and get data matrix"
   ]
  },
  {
   "cell_type": "code",
   "execution_count": 1,
   "metadata": {},
   "outputs": [],
   "source": [
    "import sys\n",
    "import numpy as np\n",
    "import cantera as ct\n",
    "import matplotlib.pylab as plt\n",
    "\n",
    "# input file\n",
    "fname1 = 'x_a5.txt'\n",
    "fname2 = 'y_a5.txt'\n",
    "\n",
    "fid1 = open(fname1,'r')\n",
    "fid2 = open(fname2,'r')\n",
    "\n",
    "x = np.fromfile(fid1, sep=' ')\n",
    "y = np.fromfile(fid2, sep=' ')\n",
    "\n",
    "nx = x.size    # size of data\n",
    "nv = 2         # number of variables\n",
    "\n",
    "# data matrix\n",
    "X = np.zeros((nx,nv))\n",
    "X[:,0] = x\n",
    "X[:,1] = y"
   ]
  },
  {
   "cell_type": "markdown",
   "metadata": {},
   "source": [
    "#### Plot data"
   ]
  },
  {
   "cell_type": "code",
   "execution_count": 2,
   "metadata": {},
   "outputs": [
    {
     "data": {
      "text/plain": [
       "Text(0.5, 0, 'Time (ms)')"
      ]
     },
     "execution_count": 2,
     "metadata": {},
     "output_type": "execute_result"
    },
    {
     "data": {
      "image/png": "[encoded data removed]",
      "text/plain": [
       "<Figure size 288x216 with 1 Axes>"
      ]
     },
     "metadata": {},
     "output_type": "display_data"
    }
   ],
   "source": [
    "# plot reaction rates\n",
    "plt.rcParams['axes.labelsize'] = 14\n",
    "plt.rcParams['xtick.labelsize'] = 12\n",
    "plt.rcParams['ytick.labelsize'] = 12\n",
    "plt.rcParams['legend.fontsize'] = 10\n",
    "plt.rcParams['figure.figsize'] = (4,3)\n",
    "# Get the best of both ggplot and seaborn\n",
    "plt.style.use('ggplot')\n",
    "plt.style.use('seaborn-deep')\n",
    "plt.rcParams['figure.autolayout'] = True \n",
    "plt.figure()\n",
    "plt.plot(x,y, 'o')\n",
    "plt.xlabel('Time (ms)')\n",
    "# plt.ylabel('Reaction rate');"
   ]
  },
  {
   "cell_type": "markdown",
   "metadata": {},
   "source": [
    "### Step 2: Compute principal values and vectors"
   ]
  },
  {
   "cell_type": "markdown",
   "metadata": {},
   "source": [
    "#### Scaling data matrix"
   ]
  },
  {
   "cell_type": "code",
   "execution_count": 3,
   "metadata": {},
   "outputs": [],
   "source": [
    "def scaleData(nf, v):\n",
    "\n",
    "    # compute mean\n",
    "    v_mean = np.mean(v, axis=0)\n",
    "#     print(v_mean)\n",
    "    v_max = np.max(np.abs(v), axis=0)\n",
    "#     print(v_max)\n",
    "\n",
    "    # add for loop to scale the data: NORMALIZATION\n",
    "    for i in range(nf):\n",
    "        v[:, i] = (v[:, i] - v_mean[i])/v_max[i]\n",
    "#         v[:, i] = (v[:, i])/v_max[i]\n",
    "\n",
    "    return None\n",
    "\n",
    "Xs = np.zeros((nx,nv)) # scaled data matrix\n",
    "Xs = np.copy(X)\n",
    "\n",
    "scaleData(nv,Xs)\n"
   ]
  },
  {
   "cell_type": "markdown",
   "metadata": {},
   "source": [
    "#### Co-variance matrix"
   ]
  },
  {
   "cell_type": "code",
   "execution_count": 4,
   "metadata": {},
   "outputs": [],
   "source": [
    "def covar(u, mom):\n",
    "    # compute covariance matrix\n",
    "    for j in range(nv):\n",
    "        for i in range(nv):\n",
    "            for n in range(nx):\n",
    "                mom[i,j] = mom[i,j] + u[n,i] * u[n,j]\n",
    "                \n",
    "    mom = mom/nx            \n",
    "    return None\n",
    "\n",
    "mom2 = np.zeros((nv, nv), dtype=float, order='F')\n",
    "covar(Xs,mom2)"
   ]
  },
  {
   "cell_type": "markdown",
   "metadata": {},
   "source": [
    "#### Co-kurtosis tensor (matricized)"
   ]
  },
  {
   "cell_type": "code",
   "execution_count": 5,
   "metadata": {},
   "outputs": [],
   "source": [
    "def cokurt(u, tmp):\n",
    "    # compute covariance matrix\n",
    "    for l in range(nv):\n",
    "        for k in range(nv):\n",
    "            for j in range(nv):\n",
    "                for i in range(nv):\n",
    "                    for n in range(nx):\n",
    "                        tmp[i,j,k,l] = tmp[i,j,k,l] + u[n,i] * u[n,j] * u[n,k] * u[n,l]\n",
    "    \n",
    "    tmp=tmp/nx\n",
    "    return None\n",
    "\n",
    "\n",
    "mom4_t = np.zeros((nv,nv,nv,nv), dtype=float, order='F')\n",
    "cokurt(Xs,mom4_t)"
   ]
  },
  {
   "cell_type": "code",
   "execution_count": 6,
   "metadata": {},
   "outputs": [
    {
     "name": "stdout",
     "output_type": "stream",
     "text": [
      "[[11.18753517  1.92769824  1.92769824  3.81353948  1.92769824  3.81353948\n",
      "   3.81353948  8.00177931]\n",
      " [ 1.92769824  3.81353948  3.81353948  8.00177931  3.81353948  8.00177931\n",
      "   8.00177931 19.51946429]]\n"
     ]
    }
   ],
   "source": [
    "mom4 = np.reshape(mom4_t,(nv,nv*nv*nv),order='F')\n",
    "print(mom4)"
   ]
  },
  {
   "cell_type": "markdown",
   "metadata": {},
   "source": [
    "#### Excess-kurtosis tensor (matricized)"
   ]
  },
  {
   "cell_type": "code",
   "execution_count": null,
   "metadata": {},
   "outputs": [],
   "source": [
    "def cokurt(u, tmp):\n",
    "    # compute covariance matrix\n",
    "    for l in range(nv):\n",
    "        for k in range(nv):\n",
    "            for j in range(nv):\n",
    "                for i in range(nv):\n",
    "                    for n in range(nx):\n",
    "                        tmp[i,j,k,l] = tmp[i,j,k,l] + u[n,i] * u[n,j] * u[n,k] * u[n,l]\n",
    "    \n",
    "    tmp=tmp/nx\n",
    "    return None\n",
    "\n",
    "\n",
    "mom4_t = np.zeros((nv,nv,nv,nv), dtype=float, order='F')\n",
    "cokurt(Xs,mom4_t)"
   ]
  },
  {
   "cell_type": "markdown",
   "metadata": {},
   "source": [
    "#### Principal values and vectors"
   ]
  },
  {
   "cell_type": "code",
   "execution_count": 7,
   "metadata": {},
   "outputs": [],
   "source": [
    "# factorize co-variance matrix: SVD of the covariance matrix\n",
    "U2, S2, V2 = np.linalg.svd(mom2)\n",
    "\n",
    "# factorize co-kurtosis tensor\n",
    "U4, S4, V4 = np.linalg.svd(mom4)"
   ]
  },
  {
   "cell_type": "code",
   "execution_count": 8,
   "metadata": {},
   "outputs": [
    {
     "name": "stdout",
     "output_type": "stream",
     "text": [
      "[[-0.47819117 -0.87825578]\n",
      " [-0.87825578  0.47819117]]\n",
      "[27.91195404  9.23740882]\n",
      "[[-0.25232173 -0.15301943 -0.15301943 -0.31711179 -0.15301943 -0.31711179\n",
      "  -0.31711179 -0.75127175]\n",
      " [-0.96387518  0.01413695  0.01413695  0.05165054  0.01413695  0.05165054\n",
      "   0.05165054  0.24968328]\n",
      " [-0.02234804 -0.14297171  0.98088411 -0.04124942 -0.01911589 -0.04124942\n",
      "  -0.04124942 -0.10703297]\n",
      " [-0.02439571 -0.3091295  -0.03982451  0.91375181 -0.03982451 -0.08624819\n",
      "  -0.08624819 -0.22550376]\n",
      " [-0.02234804 -0.14297171 -0.01911589 -0.04124942  0.98088411 -0.04124942\n",
      "  -0.04124942 -0.10703297]\n",
      " [-0.02439571 -0.3091295  -0.03982451 -0.08624819 -0.03982451  0.91375181\n",
      "  -0.08624819 -0.22550376]\n",
      " [-0.02439571 -0.3091295  -0.03982451 -0.08624819 -0.03982451 -0.08624819\n",
      "   0.91375181 -0.22550376]\n",
      " [ 0.0670377  -0.80549379 -0.09554146 -0.208685   -0.09554146 -0.208685\n",
      "  -0.208685    0.44472584]]\n"
     ]
    }
   ],
   "source": [
    "# print(U2)\n",
    "print(U4)\n",
    "print(S4)\n",
    "print(V4)"
   ]
  },
  {
   "cell_type": "markdown",
   "metadata": {},
   "source": [
    "#### Plot vectors"
   ]
  },
  {
   "cell_type": "code",
   "execution_count": 9,
   "metadata": {
    "scrolled": false
   },
   "outputs": [
    {
     "data": {
      "text/plain": [
       "(-1.0535789772892712,\n",
       " 0.5547253074659141,\n",
       " -0.9837742689747363,\n",
       " 1.0871017219524712)"
      ]
     },
     "execution_count": 9,
     "metadata": {},
     "output_type": "execute_result"
    },
    {
     "data": {
      "image/png": "[encoded data removed]",
      "text/plain": [
       "<Figure size 360x216 with 1 Axes>"
      ]
     },
     "metadata": {},
     "output_type": "display_data"
    }
   ],
   "source": [
    "# plot reaction rates\n",
    "plt.rcParams['axes.labelsize'] = 14\n",
    "plt.rcParams['xtick.labelsize'] = 12\n",
    "plt.rcParams['ytick.labelsize'] = 12\n",
    "plt.rcParams['legend.fontsize'] = 10\n",
    "plt.rcParams['figure.figsize'] = (5,3)\n",
    "# Get the best of both ggplot and seaborn\n",
    "plt.style.use('ggplot')\n",
    "plt.style.use('seaborn-deep')\n",
    "plt.rcParams['figure.autolayout'] = True \n",
    "plt.figure()\n",
    "plt.plot(Xs[:,0],Xs[:,1], 'o')\n",
    "# second moment vectors\n",
    "plt.plot([0,U2[0,0]],[0,U2[0,1]],'-r')\n",
    "plt.plot([0,U2[1,0]],[0,U2[1,1]],'--r')\n",
    "# fourth moment vectors\n",
    "plt.plot([0,U4[0,0]],[0,U4[0,1]],'-b')\n",
    "plt.plot([0,U4[1,0]],[0,U4[1,1]],'--b')\n",
    "\n",
    "plt.xlabel('Scaled x')\n",
    "plt.ylabel('Scaled y')\n",
    "plt.axis('equal')"
   ]
  },
  {
   "cell_type": "markdown",
   "metadata": {},
   "source": [
    "### Step 2: Compute principal values and vectors"
   ]
  }
 ],
 "metadata": {
  "kernelspec": {
   "display_name": "Python 3",
   "language": "python",
   "name": "python3"
  },
  "language_info": {
   "codemirror_mode": {
    "name": "ipython",
    "version": 3
   },
   "file_extension": ".py",
   "mimetype": "text/x-python",
   "name": "python",
   "nbconvert_exporter": "python",
   "pygments_lexer": "ipython3",
   "version": "3.7.7"
  },
  "varInspector": {
   "cols": {
    "lenName": 16,
    "lenType": 16,
    "lenVar": 40
   },
   "kernels_config": {
    "python": {
     "delete_cmd_postfix": "",
     "delete_cmd_prefix": "del ",
     "library": "var_list.py",
     "varRefreshCmd": "print(var_dic_list())"
    },
    "r": {
     "delete_cmd_postfix": ") ",
     "delete_cmd_prefix": "rm(",
     "library": "var_list.r",
     "varRefreshCmd": "cat(var_dic_list()) "
    }
   },
   "types_to_exclude": [
    "module",
    "function",
    "builtin_function_or_method",
    "instance",
    "_Feature"
   ],
   "window_display": false
  }
 },
 "nbformat": 4,
 "nbformat_minor": 4
}
