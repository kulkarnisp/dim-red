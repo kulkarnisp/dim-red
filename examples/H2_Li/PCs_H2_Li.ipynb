{
 "cells": [
  {
   "cell_type": "markdown",
   "metadata": {},
   "source": [
    "## Dimensionality reduction: Hydrogen mechanism (H2_Li)"
   ]
  },
  {
   "cell_type": "markdown",
   "metadata": {},
   "source": [
    "### Step 1: Zero-dimensional simulation"
   ]
  },
  {
   "cell_type": "code",
   "execution_count": 1,
   "metadata": {},
   "outputs": [
    {
     "ename": "ModuleNotFoundError",
     "evalue": "No module named 'cantera'",
     "output_type": "error",
     "traceback": [
      "\u001b[0;31m---------------------------------------------------------------------------\u001b[0m",
      "\u001b[0;31mModuleNotFoundError\u001b[0m                       Traceback (most recent call last)",
      "\u001b[0;32m<ipython-input-1-acbbf8943fed>\u001b[0m in \u001b[0;36m<module>\u001b[0;34m\u001b[0m\n\u001b[1;32m      3\u001b[0m \u001b[0;31m### Step 1: Zero-dimensional simulationimport sys\u001b[0m\u001b[0;34m\u001b[0m\u001b[0;34m\u001b[0m\u001b[0;34m\u001b[0m\u001b[0m\n\u001b[1;32m      4\u001b[0m \u001b[0;32mimport\u001b[0m \u001b[0mnumpy\u001b[0m \u001b[0;32mas\u001b[0m \u001b[0mnp\u001b[0m\u001b[0;34m\u001b[0m\u001b[0;34m\u001b[0m\u001b[0m\n\u001b[0;32m----> 5\u001b[0;31m \u001b[0;32mimport\u001b[0m \u001b[0mcantera\u001b[0m \u001b[0;32mas\u001b[0m \u001b[0mct\u001b[0m\u001b[0;34m\u001b[0m\u001b[0;34m\u001b[0m\u001b[0m\n\u001b[0m\u001b[1;32m      6\u001b[0m \u001b[0;32mimport\u001b[0m \u001b[0mmatplotlib\u001b[0m\u001b[0;34m.\u001b[0m\u001b[0mpylab\u001b[0m \u001b[0;32mas\u001b[0m \u001b[0mplt\u001b[0m\u001b[0;34m\u001b[0m\u001b[0;34m\u001b[0m\u001b[0m\n\u001b[1;32m      7\u001b[0m \u001b[0;34m\u001b[0m\u001b[0m\n",
      "\u001b[0;31mModuleNotFoundError\u001b[0m: No module named 'cantera'"
     ]
    }
   ],
   "source": [
    "## Dimensionality reduction: Hydrogen mechanism (H2_Li)\n",
    "\n",
    "### Step 1: Zero-dimensional simulationimport sys\n",
    "import numpy as np\n",
    "import cantera as ct\n",
    "import matplotlib.pylab as plt\n",
    "\n",
    "gas = ct.Solution('/Users/aditya/work/projects/isml/jupyter/mech/H2_Li/H2_Li.cti')\n",
    "\n",
    "# simulation parameters\n",
    "nstep = 2500\n",
    "dtime = 1.e-7\n",
    "\n",
    "# composition\n",
    "gas.TPY = 1120.0, ct.one_atm*1.2, 'H2:0.00811,O2:0.18316,H2O:0.05182,N2:0.75692'\n",
    "r = ct.IdealGasConstPressureReactor(gas)\n",
    "\n",
    "# data matrix (size NTxNV)\n",
    "nt = nstep+1\n",
    "nx = nt\n",
    "nsc = gas.Y.size\n",
    "nv = nsc + 1\n",
    "X = np.zeros((nt,nv)) # data matrix\n",
    "p = np.zeros((nt))\n",
    "\n",
    "\n",
    "# simulation object\n",
    "sim = ct.ReactorNet([r])\n",
    "time = np.zeros(nt)\n",
    "\n",
    "# initial condition\n",
    "for i in range(nsc):\n",
    "    X[0,i] = gas.Y[i]\n",
    "X[0,nv-1] = gas.T\n",
    "p[0] = gas.P\n",
    "\n",
    "\n",
    "for n in range(nstep):\n",
    "    time[n+1]=time[n]+dtime\n",
    "    # integrates the solution in time\n",
    "    sim.advance(time[n+1])\n",
    "    # append data to X matrix\n",
    "    for i in range(nsc):\n",
    "        X[n+1,i] = gas.Y[i]\n",
    "    X[n+1,nv-1] = gas.T\n",
    "    p[n+1] = gas.P\n",
    "    \n",
    "    \n"
   ]
  },
  {
   "cell_type": "markdown",
   "metadata": {},
   "source": [
    "#### Compute reaction rate"
   ]
  },
  {
   "cell_type": "code",
   "execution_count": 2,
   "metadata": {},
   "outputs": [],
   "source": [
    "nRR = gas.n_reactions        # number of reactions\n",
    "RR = np.zeros((nt,nRR))   # reaction rates matrix\n",
    "\n",
    "\n",
    "# print reactions\n",
    "# for ir in range(nRR):\n",
    "#     print(gas.reactions()[ir])\n",
    "\n",
    "# compute reaction rates at each time step\n",
    "for it in range(nt):\n",
    "    gas.TP = X[it,nv-1],p[it]\n",
    "    gas.Y = X[it,:nsc]\n",
    "    for ir in range(nRR):\n",
    "        RR[it,ir] = gas.net_rates_of_progress[ir]\n",
    "\n"
   ]
  },
  {
   "cell_type": "code",
   "execution_count": 3,
   "metadata": {
    "scrolled": true
   },
   "outputs": [],
   "source": [
    "# plot reaction rates\n",
    "plt.rcParams['axes.labelsize'] = 14\n",
    "plt.rcParams['xtick.labelsize'] = 12\n",
    "plt.rcParams['ytick.labelsize'] = 12\n",
    "plt.rcParams['legend.fontsize'] = 10\n",
    "plt.rcParams['figure.figsize'] = (8,6)\n",
    "# Get the best of both ggplot and seaborn\n",
    "plt.style.use('ggplot')\n",
    "plt.style.use('seaborn-deep')\n",
    "plt.rcParams['figure.autolayout'] = True \n",
    "\n",
    "# plt.figure()\n",
    "# plt.plot(time*1e3, RR[:,0], '-r')\n",
    "# plt.plot(time*1e3, RR[:,1], '-g')\n",
    "# plt.plot(time*1e3, RR[:,2], '-b')\n",
    "# plt.plot(time*1e3, RR[:,3], '-k')\n",
    "# plt.xlabel('Time (ms)')\n",
    "# plt.ylabel('Reaction rate');"
   ]
  },
  {
   "cell_type": "markdown",
   "metadata": {},
   "source": [
    "### Step 2: Compute principal values and vectors"
   ]
  },
  {
   "cell_type": "markdown",
   "metadata": {},
   "source": [
    "#### Scaling data matrix"
   ]
  },
  {
   "cell_type": "code",
   "execution_count": 4,
   "metadata": {},
   "outputs": [],
   "source": [
    "def scaleData(nf, v):\n",
    "\n",
    "    # compute mean\n",
    "    v_mean = np.mean(v, axis=0)\n",
    "#     print(v_mean)\n",
    "    v_max = np.max(np.abs(v), axis=0)\n",
    "#     print(v_max)\n",
    "\n",
    "    # add for loop to scale the data: NORMALIZATION\n",
    "    for i in range(nf):\n",
    "        v[:, i] = (v[:, i] - v_mean[i])/v_max[i]\n",
    "#         v[:, i] = (v[:, i])/v_max[i]\n",
    "\n",
    "    return None\n",
    "\n",
    "Xs = np.zeros((nx,nv)) # scaled data matrix\n",
    "Xs = np.copy(X)\n",
    "\n",
    "scaleData(nv,Xs)\n",
    "# print(Xs)"
   ]
  },
  {
   "cell_type": "markdown",
   "metadata": {},
   "source": [
    "#### Co-variance matrix"
   ]
  },
  {
   "cell_type": "code",
   "execution_count": 5,
   "metadata": {},
   "outputs": [
    {
     "name": "stdout",
     "output_type": "stream",
     "text": [
      "[[ 2.08343051e-01  7.73371609e-02 -6.07307689e-02 -1.52130075e-01\n",
      "  -1.18634285e-01 -2.02884105e-02  2.53235943e-02 -6.17107478e-02\n",
      "  -2.64768341e-29 -7.48996568e-02]\n",
      " [ 7.73371609e-02  2.87359354e-02 -2.33116933e-02 -5.71360139e-02\n",
      "  -4.39983405e-02 -7.89539807e-03  9.34065734e-03 -2.37125125e-02\n",
      "   9.90239652e-30 -2.77168265e-02]\n",
      " [-6.07307689e-02 -2.33116933e-02  5.85189731e-02  6.89686461e-02\n",
      "   3.18450509e-02  4.24270199e-02  1.12436087e-02  6.10023880e-02\n",
      "  -1.11090288e-30  1.57143873e-02]\n",
      " [-1.52130075e-01 -5.71360139e-02  6.89686461e-02  1.29810460e-01\n",
      "   8.51062669e-02  3.26188036e-02 -9.80746287e-03  7.13332455e-02\n",
      "   4.82108825e-30  5.13542879e-02]\n",
      " [-1.18634285e-01 -4.39983405e-02  3.18450509e-02  8.51062669e-02\n",
      "   6.77506572e-02  8.78028072e-03 -1.60868098e-02  3.22226341e-02\n",
      "   3.06148054e-29  4.30902477e-02]\n",
      " [-2.02884105e-02 -7.89539807e-03  4.24270199e-02  3.26188036e-02\n",
      "   8.78028072e-03  4.24457317e-02  2.26028280e-02  4.48834883e-02\n",
      "  -2.07371692e-30  1.10105967e-03]\n",
      " [ 2.53235943e-02  9.34065734e-03  1.12436087e-02 -9.80746287e-03\n",
      "  -1.60868098e-02  2.26028280e-02  6.60609685e-02  1.86939651e-02\n",
      "  -5.25360545e-30 -1.27200497e-02]\n",
      " [-6.17107478e-02 -2.37125125e-02  6.10023880e-02  7.13332455e-02\n",
      "   3.22226341e-02  4.48834883e-02  1.86939651e-02  6.46512835e-02\n",
      "   3.58677800e-30  1.56884678e-02]\n",
      " [-2.64768341e-29  9.90239652e-30 -1.11090288e-30  4.82108825e-30\n",
      "   3.06148054e-29 -2.07371692e-30 -5.25360545e-30  3.58677800e-30\n",
      "   4.15679670e-28 -8.70475363e-30]\n",
      " [-7.48996568e-02 -2.77168265e-02  1.57143873e-02  5.13542879e-02\n",
      "   4.30902477e-02  1.10105967e-03 -1.27200497e-02  1.56884678e-02\n",
      "  -8.70475363e-30  2.79107433e-02]]\n"
     ]
    }
   ],
   "source": [
    "def covar(u):\n",
    "    mom = np.zeros((nv, nv), dtype=float, order='F')\n",
    "    # compute covariance matrix\n",
    "    for j in range(nv):\n",
    "        for i in range(nv):\n",
    "            for n in range(nx):\n",
    "                mom[i,j] = mom[i,j] + u[n,i] * u[n,j]                \n",
    "    mom = mom/nx    \n",
    "#     mom=np.true_divide(mom, nx)\n",
    "#     print(mom)\n",
    "    return mom\n",
    "\n",
    "mom2 = np.zeros((nv, nv), dtype=float, order='F')\n",
    "mom2 = covar(Xs)\n",
    "print(mom2)"
   ]
  },
  {
   "cell_type": "markdown",
   "metadata": {},
   "source": [
    "#### Co-kurtosis tensor (matricized)"
   ]
  },
  {
   "cell_type": "code",
   "execution_count": 6,
   "metadata": {},
   "outputs": [],
   "source": [
    "def cokurt(u):\n",
    "    tmp = np.zeros((nv,nv,nv,nv), dtype=float, order='F')\n",
    "    # compute cokurtosis matrix\n",
    "    for l in range(nv):\n",
    "        for k in range(nv):\n",
    "            for j in range(nv):\n",
    "                for i in range(nv):\n",
    "                    for n in range(nx):\n",
    "                        tmp[i,j,k,l] = tmp[i,j,k,l] + u[n,i] * u[n,j] * u[n,k] * u[n,l]\n",
    "    \n",
    "    tmp=tmp/nx\n",
    "    return tmp\n",
    "\n",
    "\n",
    "mom4_t = np.zeros((nv,nv,nv,nv), dtype=float, order='F')\n",
    "mom4_t = cokurt(Xs)"
   ]
  },
  {
   "cell_type": "code",
   "execution_count": 7,
   "metadata": {
    "scrolled": true
   },
   "outputs": [],
   "source": [
    "mom4 = np.reshape(mom4_t,(nv,nv*nv*nv),order='F')\n",
    "# print(mom4)"
   ]
  },
  {
   "cell_type": "markdown",
   "metadata": {},
   "source": [
    "#### Cumulant Excess-kurtosis tensor (matricized)"
   ]
  },
  {
   "cell_type": "code",
   "execution_count": 8,
   "metadata": {},
   "outputs": [],
   "source": [
    "def excesskurt(u):\n",
    "    tmp = np.zeros((nv,nv,nv,nv), dtype=float, order='F')\n",
    "    # compute cokurtosis matrix\n",
    "    for l in range(nv):\n",
    "        for k in range(nv):\n",
    "            for j in range(nv):\n",
    "                for i in range(nv):\n",
    "                    for n in range(nx):\n",
    "                        tmp[i,j,k,l] = tmp[i,j,k,l] + u[n,i] * u[n,j] * u[n,k] * u[n,l]    \n",
    "    \n",
    "    tmp=tmp/nx\n",
    "    \n",
    "    for l in range(nv):\n",
    "        for k in range(nv):\n",
    "            for j in range(nv):\n",
    "                for i in range(nv):\n",
    "                    tmp[i,j,k,l] = tmp[i,j,k,l] - mom2[i,j]*mom2[k,l] - mom2[i,k]*mom2[j,l] - mom2[i,l]*mom2[j,k]\n",
    "                    \n",
    "    return tmp\n",
    "\n",
    "\n",
    "mom42_t = np.zeros((nv,nv,nv,nv), dtype=float, order='F')\n",
    "mom42_t = excesskurt(Xs)"
   ]
  },
  {
   "cell_type": "code",
   "execution_count": 9,
   "metadata": {},
   "outputs": [],
   "source": [
    "mom42 = np.reshape(mom42_t,(nv,nv*nv*nv),order='F')\n",
    "# print(mom42)"
   ]
  },
  {
   "cell_type": "markdown",
   "metadata": {},
   "source": [
    "#### Principal values and vectors"
   ]
  },
  {
   "cell_type": "code",
   "execution_count": 10,
   "metadata": {},
   "outputs": [],
   "source": [
    "# factorize co-variance matrix: SVD of the covariance matrix\n",
    "U2, S2, V2 = np.linalg.svd(mom2)\n",
    "\n",
    "# factorize co-kurtosis tensor\n",
    "U4, S4, V4 = np.linalg.svd(mom4)\n",
    "\n",
    "# factorize excess-kurtosis tensor\n",
    "U42, S42, V42 = np.linalg.svd(mom42)"
   ]
  },
  {
   "cell_type": "markdown",
   "metadata": {},
   "source": [
    "### Step 3: write data"
   ]
  },
  {
   "cell_type": "markdown",
   "metadata": {},
   "source": [
    "#### Save simulation data"
   ]
  },
  {
   "cell_type": "code",
   "execution_count": 17,
   "metadata": {},
   "outputs": [],
   "source": [
    "# write mass fractions, temperature and pressure\n",
    "with open('YTP_H2_Li.npy', 'wb') as fid:\n",
    "    np.save(fid, X)\n",
    "    np.save(fid, p)\n",
    "    np.save(fid, RR)\n",
    "    \n",
    "# with open('YTP_H2_Li.npy', 'rb') as fid1:    \n",
    "#     xx=np.load(fid1)\n",
    "#     p=np.load(fid1)"
   ]
  },
  {
   "cell_type": "code",
   "execution_count": 12,
   "metadata": {},
   "outputs": [],
   "source": [
    "# principal values and principal vectors\n",
    "\n",
    "# second moment\n",
    "with open('PV2_H2_Li.npy', 'wb') as fid2:\n",
    "    np.save(fid2, S2)\n",
    "    np.save(fid2, U2)\n",
    "\n",
    "# raw fourth moment\n",
    "with open('PV4_H2_Li.npy', 'wb') as fid4:\n",
    "    np.save(fid4, S4)\n",
    "    np.save(fid4, U4)\n",
    "\n",
    "# cumulant kurtosis moment\n",
    "with open('PV42_H2_Li.npy', 'wb') as fid42:\n",
    "    np.save(fid42, S42)\n",
    "    np.save(fid42, U42)"
   ]
  },
  {
   "cell_type": "markdown",
   "metadata": {},
   "source": [
    "#### Analyze principal values and vectors"
   ]
  },
  {
   "cell_type": "code",
   "execution_count": 13,
   "metadata": {},
   "outputs": [
    {
     "data": {
      "text/plain": [
       "array([5.07467661e-01, 1.36763511e-01, 4.14087013e-02, 7.89197613e-03,\n",
       "       6.18416176e-04, 7.75357510e-05, 1.24521417e-09, 6.42072612e-17,\n",
       "       2.55488515e-17, 4.15679670e-28])"
      ]
     },
     "execution_count": 13,
     "metadata": {},
     "output_type": "execute_result"
    }
   ],
   "source": [
    "S2"
   ]
  },
  {
   "cell_type": "code",
   "execution_count": 14,
   "metadata": {},
   "outputs": [
    {
     "data": {
      "text/plain": [
       "array([4.17445833e-01, 8.57624542e-02, 4.19845897e-02, 9.19474360e-03,\n",
       "       3.98418179e-03, 3.34678663e-04, 2.64483513e-06, 8.46442276e-16,\n",
       "       4.12051088e-16, 2.07629870e-16])"
      ]
     },
     "execution_count": 14,
     "metadata": {},
     "output_type": "execute_result"
    }
   ],
   "source": [
    "S42"
   ]
  },
  {
   "cell_type": "code",
   "execution_count": 15,
   "metadata": {},
   "outputs": [
    {
     "data": {
      "text/plain": [
       "array([3.97505011e-01, 1.45591864e-01, 6.93739357e-02, 1.33052741e-02,\n",
       "       2.38090190e-03, 4.06151531e-04, 2.54894078e-06, 9.55625237e-16,\n",
       "       4.61094289e-16, 1.73621200e-16])"
      ]
     },
     "execution_count": 15,
     "metadata": {},
     "output_type": "execute_result"
    }
   ],
   "source": [
    "S4"
   ]
  },
  {
   "cell_type": "code",
   "execution_count": 16,
   "metadata": {
    "scrolled": true
   },
   "outputs": [
    {
     "data": {
      "image/png": "[encoded data removed]",
      "text/plain": [
       "<Figure size 576x432 with 3 Axes>"
      ]
     },
     "metadata": {},
     "output_type": "display_data"
    }
   ],
   "source": [
    "fig, (ax1, ax2, ax3) = plt.subplots(1, 3)\n",
    "f1=ax1.plot(S2)\n",
    "ax1.set_yscale('log')\n",
    "\n",
    "f1=ax2.plot(S4)\n",
    "ax2.set_yscale('log')\n",
    "\n",
    "f1=ax3.plot(S42)\n",
    "ax3.set_yscale('log')"
   ]
  },
  {
   "cell_type": "code",
   "execution_count": 1,
   "metadata": {},
   "outputs": [],
   "source": [
    "S2=[5.07467661e-01, 1.36763511e-01, 4.14087013e-02, 7.89197613e-03,\n",
    "       6.18416176e-04, 7.75357510e-05, 1.24521417e-09, 6.42072612e-17,\n",
    "       2.55488515e-17, 4.15679670e-28]"
   ]
  },
  {
   "cell_type": "code",
   "execution_count": 2,
   "metadata": {},
   "outputs": [],
   "source": [
    "S42=[4.17445833e-01, 8.57624542e-02, 4.19845897e-02, 9.19474360e-03,\n",
    "       3.98418179e-03, 3.34678663e-04, 2.64483513e-06, 8.46442276e-16,\n",
    "       4.12051088e-16, 2.07629870e-16]"
   ]
  },
  {
   "cell_type": "code",
   "execution_count": 3,
   "metadata": {},
   "outputs": [
    {
     "data": {
      "text/plain": [
       "[<matplotlib.lines.Line2D at 0x7ff170064b10>]"
      ]
     },
     "execution_count": 3,
     "metadata": {},
     "output_type": "execute_result"
    },
    {
     "data": {
      "image/png": "[encoded data removed]",
      "text/plain": [
       "<Figure size 432x288 with 1 Axes>"
      ]
     },
     "metadata": {
      "needs_background": "light"
     },
     "output_type": "display_data"
    }
   ],
   "source": [
    "import matplotlib.pyplot as plt\n",
    "\n",
    "plt.yscale('log')\n",
    "plt.plot(S2,'r')\n",
    "plt.plot(S42,'b--')"
   ]
  },
  {
   "cell_type": "code",
   "execution_count": null,
   "metadata": {},
   "outputs": [],
   "source": []
  }
 ],
 "metadata": {
  "kernelspec": {
   "display_name": "Python 3",
   "language": "python",
   "name": "python3"
  },
  "language_info": {
   "codemirror_mode": {
    "name": "ipython",
    "version": 3
   },
   "file_extension": ".py",
   "mimetype": "text/x-python",
   "name": "python",
   "nbconvert_exporter": "python",
   "pygments_lexer": "ipython3",
   "version": "3.7.6"
  },
  "varInspector": {
   "cols": {
    "lenName": 16,
    "lenType": 16,
    "lenVar": 40
   },
   "kernels_config": {
    "python": {
     "delete_cmd_postfix": "",
     "delete_cmd_prefix": "del ",
     "library": "var_list.py",
     "varRefreshCmd": "print(var_dic_list())"
    },
    "r": {
     "delete_cmd_postfix": ") ",
     "delete_cmd_prefix": "rm(",
     "library": "var_list.r",
     "varRefreshCmd": "cat(var_dic_list()) "
    }
   },
   "types_to_exclude": [
    "module",
    "function",
    "builtin_function_or_method",
    "instance",
    "_Feature"
   ],
   "window_display": false
  }
 },
 "nbformat": 4,
 "nbformat_minor": 4
}
