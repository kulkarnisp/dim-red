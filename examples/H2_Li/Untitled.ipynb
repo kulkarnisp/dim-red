{
 "cells": [
  {
   "cell_type": "markdown",
   "metadata": {},
   "source": [
    "## Dimensionality reduction: Hydrogen mechanism (H2_Li)"
   ]
  },
  {
   "cell_type": "markdown",
   "metadata": {},
   "source": [
    "### Step 1: Zero-dimensional simulation"
   ]
  },
  {
   "cell_type": "code",
   "execution_count": 1,
   "metadata": {},
   "outputs": [],
   "source": [
    "import sys\n",
    "import numpy as np\n",
    "import cantera as ct\n",
    "import matplotlib.pylab as plt\n",
    "\n",
    "gas = ct.Solution('/Users/aditya/work/projects/isml/jupyter/mech/H2_Li/H2_Li.cti')\n",
    "\n",
    "# simulation parameters\n",
    "nstep = 2000\n",
    "dtime = 1.e-7\n",
    "\n",
    "# composition\n",
    "gas.TPY = 1120.0, ct.one_atm*1.2, 'H2:0.00811,O2:0.18316,H2O:0.05182,N2:0.75692'\n",
    "r = ct.IdealGasConstPressureReactor(gas)\n",
    "\n",
    "# data matrix (size NTxNV)\n",
    "nt = nstep+1\n",
    "nsc = gas.Y.size\n",
    "nv = nsc + 1\n",
    "X = np.zeros((nt,nv)) # data matrix\n",
    "p = np.zeros((nt))\n",
    "\n",
    "\n",
    "# simulation object\n",
    "sim = ct.ReactorNet([r])\n",
    "time = np.zeros(nt)\n",
    "\n",
    "# initial condition\n",
    "for i in range(nsc):\n",
    "    X[0,i] = gas.Y[i]\n",
    "X[0,nv-1] = gas.T\n",
    "p[0] = gas.P\n",
    "\n",
    "\n",
    "for n in range(nstep):\n",
    "    time[n+1]=time[n]+dtime\n",
    "    # integrates the solution in time\n",
    "    sim.advance(time[n+1])\n",
    "    # append data to X matrix\n",
    "    for i in range(nsc):\n",
    "        X[n+1,i] = gas.Y[i]\n",
    "    X[n+1,nv-1] = gas.T\n",
    "    p[n+1] = gas.P\n",
    "    \n",
    "    \n"
   ]
  },
  {
   "cell_type": "markdown",
   "metadata": {},
   "source": [
    "#### Compute reaction rate"
   ]
  },
  {
   "cell_type": "code",
   "execution_count": 2,
   "metadata": {},
   "outputs": [],
   "source": [
    "nRR = gas.n_reactions        # number of reactions\n",
    "RR = np.zeros((nt,nRR))   # reaction rates matrix\n",
    "\n",
    "\n",
    "# print reactions\n",
    "# for ir in range(nRR):\n",
    "#     print(gas.reactions()[ir])\n",
    "\n",
    "# compute reaction rates at each time step\n",
    "for it in range(nt):\n",
    "    gas.TP = X[it,nv-1],p[it]\n",
    "    gas.Y = X[it,:nsc]\n",
    "    for ir in range(nRR):\n",
    "        RR[it,ir] = gas.net_rates_of_progress[ir]\n",
    "\n"
   ]
  },
  {
   "cell_type": "code",
   "execution_count": 3,
   "metadata": {
    "scrolled": true
   },
   "outputs": [
    {
     "data": {
      "image/png": "[encoded data removed]",
      "text/plain": [
       "<Figure size 576x432 with 1 Axes>"
      ]
     },
     "metadata": {},
     "output_type": "display_data"
    }
   ],
   "source": [
    "# plot reaction rates\n",
    "plt.rcParams['axes.labelsize'] = 14\n",
    "plt.rcParams['xtick.labelsize'] = 12\n",
    "plt.rcParams['ytick.labelsize'] = 12\n",
    "plt.rcParams['legend.fontsize'] = 10\n",
    "plt.rcParams['figure.figsize'] = (8,6)\n",
    "# Get the best of both ggplot and seaborn\n",
    "plt.style.use('ggplot')\n",
    "plt.style.use('seaborn-deep')\n",
    "plt.rcParams['figure.autolayout'] = True \n",
    "\n",
    "plt.figure()\n",
    "plt.plot(time*1e3, RR[:,0], '-r')\n",
    "plt.plot(time*1e3, RR[:,1], '-g')\n",
    "plt.plot(time*1e3, RR[:,2], '-b')\n",
    "plt.plot(time*1e3, RR[:,3], '-k')\n",
    "plt.xlabel('Time (ms)')\n",
    "plt.ylabel('Reaction rate');"
   ]
  },
  {
   "cell_type": "markdown",
   "metadata": {},
   "source": [
    "### Step 2: Compute principal values and vectors"
   ]
  },
  {
   "cell_type": "markdown",
   "metadata": {},
   "source": [
    "#### Scaling data matrix"
   ]
  },
  {
   "cell_type": "code",
   "execution_count": 4,
   "metadata": {},
   "outputs": [],
   "source": [
    "def scaleData(nf, v):\n",
    "\n",
    "    # compute mean\n",
    "    v_mean = np.mean(v, axis=0)\n",
    "    v_max = np.max(v, axis=0)\n",
    "\n",
    "    # add for loop to scale the data: NORMALIZATION\n",
    "    for i in range(nf):\n",
    "        v[:, i] = (v[:, i] - v_mean[i])/v_max[i]\n",
    "#         v[:, i] = (v[:, i])/v_max[i]\n",
    "\n",
    "    return None\n",
    "\n",
    "Xs = np.zeros((nt,nv)) # scaled data matrix\n",
    "Xs = np.copy(X)\n",
    "\n",
    "scaleData(nv,Xs)"
   ]
  },
  {
   "cell_type": "markdown",
   "metadata": {},
   "source": [
    "#### Co-variance matrix"
   ]
  },
  {
   "cell_type": "code",
   "execution_count": 5,
   "metadata": {},
   "outputs": [
    {
     "data": {
      "text/plain": [
       "10"
      ]
     },
     "execution_count": 5,
     "metadata": {},
     "output_type": "execute_result"
    }
   ],
   "source": [
    "def covar(u, mom):\n",
    "    # compute covariance matrix\n",
    "    for j in range(nv):\n",
    "        for i in range(nv):\n",
    "            for n in range(nt):\n",
    "                mom[i,j] = mom[i,j] + u[n,i] * u[n,j]\n",
    "    return None\n",
    "\n",
    "mom2 = np.zeros((nv, nv), dtype=float, order='F')\n",
    "covar(Xs,mom2)\n",
    "mom2[0].size"
   ]
  },
  {
   "cell_type": "markdown",
   "metadata": {},
   "source": [
    "#### Co-kurtosis tensor (matricized)"
   ]
  },
  {
   "cell_type": "code",
   "execution_count": 6,
   "metadata": {},
   "outputs": [],
   "source": [
    "def cokurt(u, tmp):\n",
    "    # compute covariance matrix\n",
    "    \n",
    "    for l in range(nv):\n",
    "        for k in range(nv):\n",
    "            for j in range(nv):\n",
    "                for i in range(nv):\n",
    "                    for n in range(nt):\n",
    "                        tmp[i,j,k,l] = tmp[i,j,k,l] + u[n,i] * u[n,j] * u[n,k] * u[n,l]\n",
    "    return None\n",
    "\n",
    "\n",
    "mom4_t = np.zeros((nv,nv,nv,nv), dtype=float, order='F')\n",
    "cokurt(Xx,mom4_t)"
   ]
  },
  {
   "cell_type": "code",
   "execution_count": 9,
   "metadata": {},
   "outputs": [
    {
     "data": {
      "text/plain": [
       "1000"
      ]
     },
     "execution_count": 9,
     "metadata": {},
     "output_type": "execute_result"
    }
   ],
   "source": [
    "mom4 = np.reshape(mom4_t,(nv,nv*nv*nv),order='F')\n",
    "mom4[0].size"
   ]
  },
  {
   "cell_type": "markdown",
   "metadata": {},
   "source": [
    "#### Principal values and vectors"
   ]
  },
  {
   "cell_type": "code",
   "execution_count": 11,
   "metadata": {},
   "outputs": [],
   "source": [
    "# factorize co-variance matrix: SVD of the covariance matrix\n",
    "U2, S2, V2 = np.linalg.svd(mom2)\n",
    "\n",
    "# factorize co-kurtosis tensor\n",
    "U4, S4, V4 = np.linalg.svd(mom4)"
   ]
  },
  {
   "cell_type": "markdown",
   "metadata": {},
   "source": [
    "### Step 3: Data reduction"
   ]
  },
  {
   "cell_type": "markdown",
   "metadata": {},
   "source": [
    "#### Compute principal comp"
   ]
  }
 ],
 "metadata": {
  "kernelspec": {
   "display_name": "Python 3",
   "language": "python",
   "name": "python3"
  },
  "language_info": {
   "codemirror_mode": {
    "name": "ipython",
    "version": 3
   },
   "file_extension": ".py",
   "mimetype": "text/x-python",
   "name": "python",
   "nbconvert_exporter": "python",
   "pygments_lexer": "ipython3",
   "version": "3.7.7"
  },
  "varInspector": {
   "cols": {
    "lenName": 16,
    "lenType": 16,
    "lenVar": 40
   },
   "kernels_config": {
    "python": {
     "delete_cmd_postfix": "",
     "delete_cmd_prefix": "del ",
     "library": "var_list.py",
     "varRefreshCmd": "print(var_dic_list())"
    },
    "r": {
     "delete_cmd_postfix": ") ",
     "delete_cmd_prefix": "rm(",
     "library": "var_list.r",
     "varRefreshCmd": "cat(var_dic_list()) "
    }
   },
   "types_to_exclude": [
    "module",
    "function",
    "builtin_function_or_method",
    "instance",
    "_Feature"
   ],
   "window_display": false
  }
 },
 "nbformat": 4,
 "nbformat_minor": 4
}
